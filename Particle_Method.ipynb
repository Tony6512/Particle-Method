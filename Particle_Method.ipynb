{
  "nbformat": 4,
  "nbformat_minor": 0,
  "metadata": {
    "colab": {
      "provenance": [],
      "toc_visible": true,
      "include_colab_link": true
    },
    "kernelspec": {
      "name": "python3",
      "display_name": "Python 3"
    },
    "language_info": {
      "name": "python"
    },
    "gpuClass": "standard",
    "widgets": {
      "application/vnd.jupyter.widget-state+json": {
        "a2d009ba85b943918e71c3fd50abcd39": {
          "model_module": "@jupyter-widgets/controls",
          "model_name": "VBoxModel",
          "model_module_version": "1.5.0",
          "state": {
            "_dom_classes": [],
            "_model_module": "@jupyter-widgets/controls",
            "_model_module_version": "1.5.0",
            "_model_name": "VBoxModel",
            "_view_count": null,
            "_view_module": "@jupyter-widgets/controls",
            "_view_module_version": "1.5.0",
            "_view_name": "VBoxView",
            "box_style": "",
            "children": [
              "IPY_MODEL_e2d8ee5482f64bf7a122c45c5c78a3ef",
              "IPY_MODEL_8d6c303c879c410aad96d5375bd1395f",
              "IPY_MODEL_66aa8d03a0074bc2ae33395f4fcf3340",
              "IPY_MODEL_f3d5c0a667b24cb8b43333565f1a4d6c",
              "IPY_MODEL_5737e8a9a5ab49498594e26d0df601ad",
              "IPY_MODEL_2540ad8df9ba472788e09b3d4270524e",
              "IPY_MODEL_77608b208b3444a9bb1fc5f62d16707f",
              "IPY_MODEL_6619ef05856b4994879f74e649071e98",
              "IPY_MODEL_f4b97712c19245bb9762c5c016967fb5"
            ],
            "layout": "IPY_MODEL_14da737215a14a5f8f9cfdd996f5a643"
          }
        },
        "e2d8ee5482f64bf7a122c45c5c78a3ef": {
          "model_module": "@jupyter-widgets/controls",
          "model_name": "IntSliderModel",
          "model_module_version": "1.5.0",
          "state": {
            "_dom_classes": [],
            "_model_module": "@jupyter-widgets/controls",
            "_model_module_version": "1.5.0",
            "_model_name": "IntSliderModel",
            "_view_count": null,
            "_view_module": "@jupyter-widgets/controls",
            "_view_module_version": "1.5.0",
            "_view_name": "IntSliderView",
            "continuous_update": false,
            "description": "Number of Particles",
            "description_tooltip": null,
            "disabled": false,
            "layout": "IPY_MODEL_9306504b822b477784fd7dd5107e9082",
            "max": 200,
            "min": 50,
            "orientation": "horizontal",
            "readout": true,
            "readout_format": "d",
            "step": 10,
            "style": "IPY_MODEL_628cb3b23acb4606a508e1d2945f5188",
            "value": 100
          }
        },
        "8d6c303c879c410aad96d5375bd1395f": {
          "model_module": "@jupyter-widgets/controls",
          "model_name": "FloatLogSliderModel",
          "model_module_version": "1.5.0",
          "state": {
            "_dom_classes": [],
            "_model_module": "@jupyter-widgets/controls",
            "_model_module_version": "1.5.0",
            "_model_name": "FloatLogSliderModel",
            "_view_count": null,
            "_view_module": "@jupyter-widgets/controls",
            "_view_module_version": "1.5.0",
            "_view_name": "FloatLogSliderView",
            "base": 10,
            "continuous_update": true,
            "description": "Confinement",
            "description_tooltip": null,
            "disabled": false,
            "layout": "IPY_MODEL_ef6b2aadb9df4ce3951eea1781d3bf3f",
            "max": 10,
            "min": 1,
            "orientation": "horizontal",
            "readout": true,
            "readout_format": ".3g",
            "step": 1,
            "style": "IPY_MODEL_db63105228ea4b6b96e1c1df599e63c1",
            "value": 100
          }
        },
        "66aa8d03a0074bc2ae33395f4fcf3340": {
          "model_module": "@jupyter-widgets/controls",
          "model_name": "DropdownModel",
          "model_module_version": "1.5.0",
          "state": {
            "_dom_classes": [],
            "_model_module": "@jupyter-widgets/controls",
            "_model_module_version": "1.5.0",
            "_model_name": "DropdownModel",
            "_options_labels": [
              "uniform",
              "piece-wise",
              "log-concave"
            ],
            "_view_count": null,
            "_view_module": "@jupyter-widgets/controls",
            "_view_module_version": "1.5.0",
            "_view_name": "DropdownView",
            "description": "Target Distribution",
            "description_tooltip": null,
            "disabled": false,
            "index": 0,
            "layout": "IPY_MODEL_3a5e5c30a1e94470bc84fc3fd497af8b",
            "style": "IPY_MODEL_8d5e33cd90e647cb8e4b16d87415154a"
          }
        },
        "f3d5c0a667b24cb8b43333565f1a4d6c": {
          "model_module": "@jupyter-widgets/controls",
          "model_name": "DropdownModel",
          "model_module_version": "1.5.0",
          "state": {
            "_dom_classes": [],
            "_model_module": "@jupyter-widgets/controls",
            "_model_module_version": "1.5.0",
            "_model_name": "DropdownModel",
            "_options_labels": [
              "Barenblatt",
              "piece-wise",
              "uniform",
              "cosine",
              "polynomial"
            ],
            "_view_count": null,
            "_view_module": "@jupyter-widgets/controls",
            "_view_module_version": "1.5.0",
            "_view_name": "DropdownView",
            "description": "Initial Data",
            "description_tooltip": null,
            "disabled": false,
            "index": 0,
            "layout": "IPY_MODEL_83b7c00765d449d8b1527d2680c527a2",
            "style": "IPY_MODEL_14457b5f570b4b6182c1faabb72557d9"
          }
        },
        "5737e8a9a5ab49498594e26d0df601ad": {
          "model_module": "@jupyter-widgets/controls",
          "model_name": "DropdownModel",
          "model_module_version": "1.5.0",
          "state": {
            "_dom_classes": [],
            "_model_module": "@jupyter-widgets/controls",
            "_model_module_version": "1.5.0",
            "_model_name": "DropdownModel",
            "_options_labels": [
              "Yes",
              "No"
            ],
            "_view_count": null,
            "_view_module": "@jupyter-widgets/controls",
            "_view_module_version": "1.5.0",
            "_view_name": "DropdownView",
            "description": "Add Diffusion?",
            "description_tooltip": null,
            "disabled": false,
            "index": 0,
            "layout": "IPY_MODEL_b6c46b39e3d649cfac5108d1d174f0b2",
            "style": "IPY_MODEL_dd4aaede08e9487fb362078ead485748"
          }
        },
        "2540ad8df9ba472788e09b3d4270524e": {
          "model_module": "@jupyter-widgets/controls",
          "model_name": "DropdownModel",
          "model_module_version": "1.5.0",
          "state": {
            "_dom_classes": [],
            "_model_module": "@jupyter-widgets/controls",
            "_model_module_version": "1.5.0",
            "_model_name": "DropdownModel",
            "_options_labels": [
              "Yes",
              "No"
            ],
            "_view_count": null,
            "_view_module": "@jupyter-widgets/controls",
            "_view_module_version": "1.5.0",
            "_view_name": "DropdownView",
            "description": "Add Drift?",
            "description_tooltip": null,
            "disabled": false,
            "index": 1,
            "layout": "IPY_MODEL_275f4643afd346e59b9ae865f945ddb8",
            "style": "IPY_MODEL_49282e74792c4988b2958a4ed7617d9e"
          }
        },
        "77608b208b3444a9bb1fc5f62d16707f": {
          "model_module": "@jupyter-widgets/controls",
          "model_name": "DropdownModel",
          "model_module_version": "1.5.0",
          "state": {
            "_dom_classes": [],
            "_model_module": "@jupyter-widgets/controls",
            "_model_module_version": "1.5.0",
            "_model_name": "DropdownModel",
            "_options_labels": [
              "Yes",
              "No"
            ],
            "_view_count": null,
            "_view_module": "@jupyter-widgets/controls",
            "_view_module_version": "1.5.0",
            "_view_name": "DropdownView",
            "description": "Add Aggregation?",
            "description_tooltip": null,
            "disabled": false,
            "index": 1,
            "layout": "IPY_MODEL_8e40550177504a16aee9ccf54d88d39b",
            "style": "IPY_MODEL_5f03ec1cbc1344d18d2357eea746d288"
          }
        },
        "6619ef05856b4994879f74e649071e98": {
          "model_module": "@jupyter-widgets/controls",
          "model_name": "DropdownModel",
          "model_module_version": "1.5.0",
          "state": {
            "_dom_classes": [],
            "_model_module": "@jupyter-widgets/controls",
            "_model_module_version": "1.5.0",
            "_model_name": "DropdownModel",
            "_options_labels": [
              "Newtonian",
              "Bessel"
            ],
            "_view_count": null,
            "_view_module": "@jupyter-widgets/controls",
            "_view_module_version": "1.5.0",
            "_view_name": "DropdownView",
            "description": "Aggregation Kernel:",
            "description_tooltip": null,
            "disabled": false,
            "index": 0,
            "layout": "IPY_MODEL_f532d3b7aac74967aada749b46c5f133",
            "style": "IPY_MODEL_ed8c119a74444897bb4a737240ac605b"
          }
        },
        "f4b97712c19245bb9762c5c016967fb5": {
          "model_module": "@jupyter-widgets/controls",
          "model_name": "DropdownModel",
          "model_module_version": "1.5.0",
          "state": {
            "_dom_classes": [],
            "_model_module": "@jupyter-widgets/controls",
            "_model_module_version": "1.5.0",
            "_model_name": "DropdownModel",
            "_options_labels": [
              "Attractive",
              "Repulsive"
            ],
            "_view_count": null,
            "_view_module": "@jupyter-widgets/controls",
            "_view_module_version": "1.5.0",
            "_view_name": "DropdownView",
            "description": "if Newtonian",
            "description_tooltip": null,
            "disabled": false,
            "index": 0,
            "layout": "IPY_MODEL_7fc7516853dd47da93e198226cd1731c",
            "style": "IPY_MODEL_5e52320385674c3eb5963e4e74da357e"
          }
        },
        "14da737215a14a5f8f9cfdd996f5a643": {
          "model_module": "@jupyter-widgets/base",
          "model_name": "LayoutModel",
          "model_module_version": "1.2.0",
          "state": {
            "_model_module": "@jupyter-widgets/base",
            "_model_module_version": "1.2.0",
            "_model_name": "LayoutModel",
            "_view_count": null,
            "_view_module": "@jupyter-widgets/base",
            "_view_module_version": "1.2.0",
            "_view_name": "LayoutView",
            "align_content": null,
            "align_items": null,
            "align_self": null,
            "border": null,
            "bottom": null,
            "display": null,
            "flex": null,
            "flex_flow": null,
            "grid_area": null,
            "grid_auto_columns": null,
            "grid_auto_flow": null,
            "grid_auto_rows": null,
            "grid_column": null,
            "grid_gap": null,
            "grid_row": null,
            "grid_template_areas": null,
            "grid_template_columns": null,
            "grid_template_rows": null,
            "height": null,
            "justify_content": null,
            "justify_items": null,
            "left": null,
            "margin": null,
            "max_height": null,
            "max_width": null,
            "min_height": null,
            "min_width": null,
            "object_fit": null,
            "object_position": null,
            "order": null,
            "overflow": null,
            "overflow_x": null,
            "overflow_y": null,
            "padding": null,
            "right": null,
            "top": null,
            "visibility": null,
            "width": null
          }
        },
        "9306504b822b477784fd7dd5107e9082": {
          "model_module": "@jupyter-widgets/base",
          "model_name": "LayoutModel",
          "model_module_version": "1.2.0",
          "state": {
            "_model_module": "@jupyter-widgets/base",
            "_model_module_version": "1.2.0",
            "_model_name": "LayoutModel",
            "_view_count": null,
            "_view_module": "@jupyter-widgets/base",
            "_view_module_version": "1.2.0",
            "_view_name": "LayoutView",
            "align_content": null,
            "align_items": null,
            "align_self": null,
            "border": null,
            "bottom": null,
            "display": null,
            "flex": null,
            "flex_flow": null,
            "grid_area": null,
            "grid_auto_columns": null,
            "grid_auto_flow": null,
            "grid_auto_rows": null,
            "grid_column": null,
            "grid_gap": null,
            "grid_row": null,
            "grid_template_areas": null,
            "grid_template_columns": null,
            "grid_template_rows": null,
            "height": null,
            "justify_content": null,
            "justify_items": null,
            "left": null,
            "margin": null,
            "max_height": null,
            "max_width": null,
            "min_height": null,
            "min_width": null,
            "object_fit": null,
            "object_position": null,
            "order": null,
            "overflow": null,
            "overflow_x": null,
            "overflow_y": null,
            "padding": null,
            "right": null,
            "top": null,
            "visibility": null,
            "width": null
          }
        },
        "628cb3b23acb4606a508e1d2945f5188": {
          "model_module": "@jupyter-widgets/controls",
          "model_name": "SliderStyleModel",
          "model_module_version": "1.5.0",
          "state": {
            "_model_module": "@jupyter-widgets/controls",
            "_model_module_version": "1.5.0",
            "_model_name": "SliderStyleModel",
            "_view_count": null,
            "_view_module": "@jupyter-widgets/base",
            "_view_module_version": "1.2.0",
            "_view_name": "StyleView",
            "description_width": "initial",
            "handle_color": null
          }
        },
        "ef6b2aadb9df4ce3951eea1781d3bf3f": {
          "model_module": "@jupyter-widgets/base",
          "model_name": "LayoutModel",
          "model_module_version": "1.2.0",
          "state": {
            "_model_module": "@jupyter-widgets/base",
            "_model_module_version": "1.2.0",
            "_model_name": "LayoutModel",
            "_view_count": null,
            "_view_module": "@jupyter-widgets/base",
            "_view_module_version": "1.2.0",
            "_view_name": "LayoutView",
            "align_content": null,
            "align_items": null,
            "align_self": null,
            "border": null,
            "bottom": null,
            "display": null,
            "flex": null,
            "flex_flow": null,
            "grid_area": null,
            "grid_auto_columns": null,
            "grid_auto_flow": null,
            "grid_auto_rows": null,
            "grid_column": null,
            "grid_gap": null,
            "grid_row": null,
            "grid_template_areas": null,
            "grid_template_columns": null,
            "grid_template_rows": null,
            "height": null,
            "justify_content": null,
            "justify_items": null,
            "left": null,
            "margin": null,
            "max_height": null,
            "max_width": null,
            "min_height": null,
            "min_width": null,
            "object_fit": null,
            "object_position": null,
            "order": null,
            "overflow": null,
            "overflow_x": null,
            "overflow_y": null,
            "padding": null,
            "right": null,
            "top": null,
            "visibility": null,
            "width": null
          }
        },
        "db63105228ea4b6b96e1c1df599e63c1": {
          "model_module": "@jupyter-widgets/controls",
          "model_name": "SliderStyleModel",
          "model_module_version": "1.5.0",
          "state": {
            "_model_module": "@jupyter-widgets/controls",
            "_model_module_version": "1.5.0",
            "_model_name": "SliderStyleModel",
            "_view_count": null,
            "_view_module": "@jupyter-widgets/base",
            "_view_module_version": "1.2.0",
            "_view_name": "StyleView",
            "description_width": "",
            "handle_color": null
          }
        },
        "3a5e5c30a1e94470bc84fc3fd497af8b": {
          "model_module": "@jupyter-widgets/base",
          "model_name": "LayoutModel",
          "model_module_version": "1.2.0",
          "state": {
            "_model_module": "@jupyter-widgets/base",
            "_model_module_version": "1.2.0",
            "_model_name": "LayoutModel",
            "_view_count": null,
            "_view_module": "@jupyter-widgets/base",
            "_view_module_version": "1.2.0",
            "_view_name": "LayoutView",
            "align_content": null,
            "align_items": null,
            "align_self": null,
            "border": null,
            "bottom": null,
            "display": null,
            "flex": null,
            "flex_flow": null,
            "grid_area": null,
            "grid_auto_columns": null,
            "grid_auto_flow": null,
            "grid_auto_rows": null,
            "grid_column": null,
            "grid_gap": null,
            "grid_row": null,
            "grid_template_areas": null,
            "grid_template_columns": null,
            "grid_template_rows": null,
            "height": null,
            "justify_content": null,
            "justify_items": null,
            "left": null,
            "margin": null,
            "max_height": null,
            "max_width": null,
            "min_height": null,
            "min_width": null,
            "object_fit": null,
            "object_position": null,
            "order": null,
            "overflow": null,
            "overflow_x": null,
            "overflow_y": null,
            "padding": null,
            "right": null,
            "top": null,
            "visibility": null,
            "width": null
          }
        },
        "8d5e33cd90e647cb8e4b16d87415154a": {
          "model_module": "@jupyter-widgets/controls",
          "model_name": "DescriptionStyleModel",
          "model_module_version": "1.5.0",
          "state": {
            "_model_module": "@jupyter-widgets/controls",
            "_model_module_version": "1.5.0",
            "_model_name": "DescriptionStyleModel",
            "_view_count": null,
            "_view_module": "@jupyter-widgets/base",
            "_view_module_version": "1.2.0",
            "_view_name": "StyleView",
            "description_width": "initial"
          }
        },
        "83b7c00765d449d8b1527d2680c527a2": {
          "model_module": "@jupyter-widgets/base",
          "model_name": "LayoutModel",
          "model_module_version": "1.2.0",
          "state": {
            "_model_module": "@jupyter-widgets/base",
            "_model_module_version": "1.2.0",
            "_model_name": "LayoutModel",
            "_view_count": null,
            "_view_module": "@jupyter-widgets/base",
            "_view_module_version": "1.2.0",
            "_view_name": "LayoutView",
            "align_content": null,
            "align_items": null,
            "align_self": null,
            "border": null,
            "bottom": null,
            "display": null,
            "flex": null,
            "flex_flow": null,
            "grid_area": null,
            "grid_auto_columns": null,
            "grid_auto_flow": null,
            "grid_auto_rows": null,
            "grid_column": null,
            "grid_gap": null,
            "grid_row": null,
            "grid_template_areas": null,
            "grid_template_columns": null,
            "grid_template_rows": null,
            "height": null,
            "justify_content": null,
            "justify_items": null,
            "left": null,
            "margin": null,
            "max_height": null,
            "max_width": null,
            "min_height": null,
            "min_width": null,
            "object_fit": null,
            "object_position": null,
            "order": null,
            "overflow": null,
            "overflow_x": null,
            "overflow_y": null,
            "padding": null,
            "right": null,
            "top": null,
            "visibility": null,
            "width": null
          }
        },
        "14457b5f570b4b6182c1faabb72557d9": {
          "model_module": "@jupyter-widgets/controls",
          "model_name": "DescriptionStyleModel",
          "model_module_version": "1.5.0",
          "state": {
            "_model_module": "@jupyter-widgets/controls",
            "_model_module_version": "1.5.0",
            "_model_name": "DescriptionStyleModel",
            "_view_count": null,
            "_view_module": "@jupyter-widgets/base",
            "_view_module_version": "1.2.0",
            "_view_name": "StyleView",
            "description_width": "initial"
          }
        },
        "b6c46b39e3d649cfac5108d1d174f0b2": {
          "model_module": "@jupyter-widgets/base",
          "model_name": "LayoutModel",
          "model_module_version": "1.2.0",
          "state": {
            "_model_module": "@jupyter-widgets/base",
            "_model_module_version": "1.2.0",
            "_model_name": "LayoutModel",
            "_view_count": null,
            "_view_module": "@jupyter-widgets/base",
            "_view_module_version": "1.2.0",
            "_view_name": "LayoutView",
            "align_content": null,
            "align_items": null,
            "align_self": null,
            "border": null,
            "bottom": null,
            "display": null,
            "flex": null,
            "flex_flow": null,
            "grid_area": null,
            "grid_auto_columns": null,
            "grid_auto_flow": null,
            "grid_auto_rows": null,
            "grid_column": null,
            "grid_gap": null,
            "grid_row": null,
            "grid_template_areas": null,
            "grid_template_columns": null,
            "grid_template_rows": null,
            "height": null,
            "justify_content": null,
            "justify_items": null,
            "left": null,
            "margin": null,
            "max_height": null,
            "max_width": null,
            "min_height": null,
            "min_width": null,
            "object_fit": null,
            "object_position": null,
            "order": null,
            "overflow": null,
            "overflow_x": null,
            "overflow_y": null,
            "padding": null,
            "right": null,
            "top": null,
            "visibility": null,
            "width": null
          }
        },
        "dd4aaede08e9487fb362078ead485748": {
          "model_module": "@jupyter-widgets/controls",
          "model_name": "DescriptionStyleModel",
          "model_module_version": "1.5.0",
          "state": {
            "_model_module": "@jupyter-widgets/controls",
            "_model_module_version": "1.5.0",
            "_model_name": "DescriptionStyleModel",
            "_view_count": null,
            "_view_module": "@jupyter-widgets/base",
            "_view_module_version": "1.2.0",
            "_view_name": "StyleView",
            "description_width": "initial"
          }
        },
        "275f4643afd346e59b9ae865f945ddb8": {
          "model_module": "@jupyter-widgets/base",
          "model_name": "LayoutModel",
          "model_module_version": "1.2.0",
          "state": {
            "_model_module": "@jupyter-widgets/base",
            "_model_module_version": "1.2.0",
            "_model_name": "LayoutModel",
            "_view_count": null,
            "_view_module": "@jupyter-widgets/base",
            "_view_module_version": "1.2.0",
            "_view_name": "LayoutView",
            "align_content": null,
            "align_items": null,
            "align_self": null,
            "border": null,
            "bottom": null,
            "display": null,
            "flex": null,
            "flex_flow": null,
            "grid_area": null,
            "grid_auto_columns": null,
            "grid_auto_flow": null,
            "grid_auto_rows": null,
            "grid_column": null,
            "grid_gap": null,
            "grid_row": null,
            "grid_template_areas": null,
            "grid_template_columns": null,
            "grid_template_rows": null,
            "height": null,
            "justify_content": null,
            "justify_items": null,
            "left": null,
            "margin": null,
            "max_height": null,
            "max_width": null,
            "min_height": null,
            "min_width": null,
            "object_fit": null,
            "object_position": null,
            "order": null,
            "overflow": null,
            "overflow_x": null,
            "overflow_y": null,
            "padding": null,
            "right": null,
            "top": null,
            "visibility": null,
            "width": null
          }
        },
        "49282e74792c4988b2958a4ed7617d9e": {
          "model_module": "@jupyter-widgets/controls",
          "model_name": "DescriptionStyleModel",
          "model_module_version": "1.5.0",
          "state": {
            "_model_module": "@jupyter-widgets/controls",
            "_model_module_version": "1.5.0",
            "_model_name": "DescriptionStyleModel",
            "_view_count": null,
            "_view_module": "@jupyter-widgets/base",
            "_view_module_version": "1.2.0",
            "_view_name": "StyleView",
            "description_width": "initial"
          }
        },
        "8e40550177504a16aee9ccf54d88d39b": {
          "model_module": "@jupyter-widgets/base",
          "model_name": "LayoutModel",
          "model_module_version": "1.2.0",
          "state": {
            "_model_module": "@jupyter-widgets/base",
            "_model_module_version": "1.2.0",
            "_model_name": "LayoutModel",
            "_view_count": null,
            "_view_module": "@jupyter-widgets/base",
            "_view_module_version": "1.2.0",
            "_view_name": "LayoutView",
            "align_content": null,
            "align_items": null,
            "align_self": null,
            "border": null,
            "bottom": null,
            "display": null,
            "flex": null,
            "flex_flow": null,
            "grid_area": null,
            "grid_auto_columns": null,
            "grid_auto_flow": null,
            "grid_auto_rows": null,
            "grid_column": null,
            "grid_gap": null,
            "grid_row": null,
            "grid_template_areas": null,
            "grid_template_columns": null,
            "grid_template_rows": null,
            "height": null,
            "justify_content": null,
            "justify_items": null,
            "left": null,
            "margin": null,
            "max_height": null,
            "max_width": null,
            "min_height": null,
            "min_width": null,
            "object_fit": null,
            "object_position": null,
            "order": null,
            "overflow": null,
            "overflow_x": null,
            "overflow_y": null,
            "padding": null,
            "right": null,
            "top": null,
            "visibility": null,
            "width": null
          }
        },
        "5f03ec1cbc1344d18d2357eea746d288": {
          "model_module": "@jupyter-widgets/controls",
          "model_name": "DescriptionStyleModel",
          "model_module_version": "1.5.0",
          "state": {
            "_model_module": "@jupyter-widgets/controls",
            "_model_module_version": "1.5.0",
            "_model_name": "DescriptionStyleModel",
            "_view_count": null,
            "_view_module": "@jupyter-widgets/base",
            "_view_module_version": "1.2.0",
            "_view_name": "StyleView",
            "description_width": "initial"
          }
        },
        "f532d3b7aac74967aada749b46c5f133": {
          "model_module": "@jupyter-widgets/base",
          "model_name": "LayoutModel",
          "model_module_version": "1.2.0",
          "state": {
            "_model_module": "@jupyter-widgets/base",
            "_model_module_version": "1.2.0",
            "_model_name": "LayoutModel",
            "_view_count": null,
            "_view_module": "@jupyter-widgets/base",
            "_view_module_version": "1.2.0",
            "_view_name": "LayoutView",
            "align_content": null,
            "align_items": null,
            "align_self": null,
            "border": null,
            "bottom": null,
            "display": null,
            "flex": null,
            "flex_flow": null,
            "grid_area": null,
            "grid_auto_columns": null,
            "grid_auto_flow": null,
            "grid_auto_rows": null,
            "grid_column": null,
            "grid_gap": null,
            "grid_row": null,
            "grid_template_areas": null,
            "grid_template_columns": null,
            "grid_template_rows": null,
            "height": null,
            "justify_content": null,
            "justify_items": null,
            "left": null,
            "margin": null,
            "max_height": null,
            "max_width": null,
            "min_height": null,
            "min_width": null,
            "object_fit": null,
            "object_position": null,
            "order": null,
            "overflow": null,
            "overflow_x": null,
            "overflow_y": null,
            "padding": null,
            "right": null,
            "top": null,
            "visibility": null,
            "width": null
          }
        },
        "ed8c119a74444897bb4a737240ac605b": {
          "model_module": "@jupyter-widgets/controls",
          "model_name": "DescriptionStyleModel",
          "model_module_version": "1.5.0",
          "state": {
            "_model_module": "@jupyter-widgets/controls",
            "_model_module_version": "1.5.0",
            "_model_name": "DescriptionStyleModel",
            "_view_count": null,
            "_view_module": "@jupyter-widgets/base",
            "_view_module_version": "1.2.0",
            "_view_name": "StyleView",
            "description_width": "initial"
          }
        },
        "7fc7516853dd47da93e198226cd1731c": {
          "model_module": "@jupyter-widgets/base",
          "model_name": "LayoutModel",
          "model_module_version": "1.2.0",
          "state": {
            "_model_module": "@jupyter-widgets/base",
            "_model_module_version": "1.2.0",
            "_model_name": "LayoutModel",
            "_view_count": null,
            "_view_module": "@jupyter-widgets/base",
            "_view_module_version": "1.2.0",
            "_view_name": "LayoutView",
            "align_content": null,
            "align_items": null,
            "align_self": null,
            "border": null,
            "bottom": null,
            "display": null,
            "flex": null,
            "flex_flow": null,
            "grid_area": null,
            "grid_auto_columns": null,
            "grid_auto_flow": null,
            "grid_auto_rows": null,
            "grid_column": null,
            "grid_gap": null,
            "grid_row": null,
            "grid_template_areas": null,
            "grid_template_columns": null,
            "grid_template_rows": null,
            "height": null,
            "justify_content": null,
            "justify_items": null,
            "left": null,
            "margin": null,
            "max_height": null,
            "max_width": null,
            "min_height": null,
            "min_width": null,
            "object_fit": null,
            "object_position": null,
            "order": null,
            "overflow": null,
            "overflow_x": null,
            "overflow_y": null,
            "padding": null,
            "right": null,
            "top": null,
            "visibility": null,
            "width": null
          }
        },
        "5e52320385674c3eb5963e4e74da357e": {
          "model_module": "@jupyter-widgets/controls",
          "model_name": "DescriptionStyleModel",
          "model_module_version": "1.5.0",
          "state": {
            "_model_module": "@jupyter-widgets/controls",
            "_model_module_version": "1.5.0",
            "_model_name": "DescriptionStyleModel",
            "_view_count": null,
            "_view_module": "@jupyter-widgets/base",
            "_view_module_version": "1.2.0",
            "_view_name": "StyleView",
            "description_width": ""
          }
        }
      }
    }
  },
  "cells": [
    {
      "cell_type": "markdown",
      "metadata": {
        "id": "view-in-github",
        "colab_type": "text"
      },
      "source": [
        "<a href=\"https://colab.research.google.com/github/Tony6512/Particle-Method/blob/main/Particle_Method.ipynb\" target=\"_parent\"><img src=\"https://colab.research.google.com/assets/colab-badge.svg\" alt=\"Open In Colab\"/></a>"
      ]
    },
    {
      "cell_type": "markdown",
      "source": [
        "This notebook is a part of my work in my dissertation, Approximation and Incompressible Limit of Porous Medium, at Michigan State University (https://d.lib.msu.edu/etd/programs/Mathematics). We follow a similar particle method as used in https://arxiv.org/abs/2202.12927 and https://arxiv.org/abs/1709.09195. Some of the code here is inspired by https://zenodo.org/records/3961198.  \n",
        "\n",
        "In this notebook, we develop a particle method to approximate solutions of a weighted porous medium equation with aggregation/interaction and drift.  \n",
        "\n",
        "---\n",
        "\n",
        "\n",
        "\n"
      ],
      "metadata": {
        "id": "At2b8gqE3ehw"
      }
    },
    {
      "cell_type": "markdown",
      "source": [
        "We study the weighted porous media equation\n",
        "\\begin{align}\n",
        "    \\partial _t \\mu = \\nabla \\cdot \\left ( \\frac{a}{2} \\nabla \\left ( \\frac{\\mu ^2}{a^2} \\right ) \\right ) + \\nabla \\cdot ( \\mu \\nabla (V+ V_k)) + \\nabla \\cdot ( \\mu (\\nabla W \\ast \\mu) )\n",
        "    \\tag{WPME}\n",
        "\\end{align}\n",
        "by using Wasserstein gradient flow theory. New numercial methods have come from gradient flow theory, namely deterministic particle method. The particle method involves discretizing the initial data $\\mu _0 = \\mu (0)$ as a finite sum of Dirac masses. Using the fact that $\\mu$ is the gradient flow of the energy corresponding to WPME and it solves WPME in the weak sense, we obtain a system of ODEs for the particles.  As the number of particles, $N$, gets large, the discrete measure converges to a solution of the PME that preserves the gradient flow structure. Note that as the diffusion smooths out the particles so that they are no longer particles; a regularization is required."
      ],
      "metadata": {
        "id": "5GmOndwVyO10"
      }
    },
    {
      "cell_type": "markdown",
      "source": [
        "We will generalize this particle method by adding an aggregation term and more importantly generalizing the convexity property of the energy so that $\\omega$-convexity is sufficient rather than semi-convexity (or $\\lambda$-convexity)."
      ],
      "metadata": {
        "id": "n_H7BGS40Wp4"
      }
    },
    {
      "cell_type": "markdown",
      "source": [
        "Note that the first term on the right hand-side is the diffusion that spreads out the mass. The second term is the drift/transport. In particular, $V_k$ is the confinement that constraints the particles to $\\Omega$. The third term is the aggregation/interaction. Depending on the sign, it can be attractive or repulsive."
      ],
      "metadata": {
        "id": "x2poeO700esD"
      }
    },
    {
      "cell_type": "markdown",
      "source": [
        "# Import modules and set up widgets"
      ],
      "metadata": {
        "id": "DXw4277Oqmch"
      }
    },
    {
      "cell_type": "markdown",
      "source": [
        "You only need to run this section after opening the notebook. Once you run this section, you do not need to rerun this section unless you restart the sesstion or add new (or customize the) widgets."
      ],
      "metadata": {
        "id": "H-rGVqNRSh68"
      }
    },
    {
      "cell_type": "code",
      "source": [
        "pip install ipywidgets"
      ],
      "metadata": {
        "id": "caUk8xOWAtJU",
        "colab": {
          "base_uri": "https://localhost:8080/"
        },
        "outputId": "f5152777-6350-4c8e-f1d6-83aad8d8243e"
      },
      "execution_count": null,
      "outputs": [
        {
          "output_type": "stream",
          "name": "stdout",
          "text": [
            "Requirement already satisfied: ipywidgets in /usr/local/lib/python3.10/dist-packages (7.7.1)\n",
            "Requirement already satisfied: ipykernel>=4.5.1 in /usr/local/lib/python3.10/dist-packages (from ipywidgets) (5.5.6)\n",
            "Requirement already satisfied: ipython-genutils~=0.2.0 in /usr/local/lib/python3.10/dist-packages (from ipywidgets) (0.2.0)\n",
            "Requirement already satisfied: traitlets>=4.3.1 in /usr/local/lib/python3.10/dist-packages (from ipywidgets) (5.7.1)\n",
            "Requirement already satisfied: widgetsnbextension~=3.6.0 in /usr/local/lib/python3.10/dist-packages (from ipywidgets) (3.6.6)\n",
            "Requirement already satisfied: ipython>=4.0.0 in /usr/local/lib/python3.10/dist-packages (from ipywidgets) (7.34.0)\n",
            "Requirement already satisfied: jupyterlab-widgets>=1.0.0 in /usr/local/lib/python3.10/dist-packages (from ipywidgets) (3.0.10)\n",
            "Requirement already satisfied: jupyter-client in /usr/local/lib/python3.10/dist-packages (from ipykernel>=4.5.1->ipywidgets) (6.1.12)\n",
            "Requirement already satisfied: tornado>=4.2 in /usr/local/lib/python3.10/dist-packages (from ipykernel>=4.5.1->ipywidgets) (6.3.3)\n",
            "Requirement already satisfied: setuptools>=18.5 in /usr/local/lib/python3.10/dist-packages (from ipython>=4.0.0->ipywidgets) (67.7.2)\n",
            "Collecting jedi>=0.16 (from ipython>=4.0.0->ipywidgets)\n",
            "  Downloading jedi-0.19.1-py2.py3-none-any.whl (1.6 MB)\n",
            "\u001b[2K     \u001b[90m━━━━━━━━━━━━━━━━━━━━━━━━━━━━━━━━━━━━━━━━\u001b[0m \u001b[32m1.6/1.6 MB\u001b[0m \u001b[31m18.4 MB/s\u001b[0m eta \u001b[36m0:00:00\u001b[0m\n",
            "\u001b[?25hRequirement already satisfied: decorator in /usr/local/lib/python3.10/dist-packages (from ipython>=4.0.0->ipywidgets) (4.4.2)\n",
            "Requirement already satisfied: pickleshare in /usr/local/lib/python3.10/dist-packages (from ipython>=4.0.0->ipywidgets) (0.7.5)\n",
            "Requirement already satisfied: prompt-toolkit!=3.0.0,!=3.0.1,<3.1.0,>=2.0.0 in /usr/local/lib/python3.10/dist-packages (from ipython>=4.0.0->ipywidgets) (3.0.43)\n",
            "Requirement already satisfied: pygments in /usr/local/lib/python3.10/dist-packages (from ipython>=4.0.0->ipywidgets) (2.16.1)\n",
            "Requirement already satisfied: backcall in /usr/local/lib/python3.10/dist-packages (from ipython>=4.0.0->ipywidgets) (0.2.0)\n",
            "Requirement already satisfied: matplotlib-inline in /usr/local/lib/python3.10/dist-packages (from ipython>=4.0.0->ipywidgets) (0.1.6)\n",
            "Requirement already satisfied: pexpect>4.3 in /usr/local/lib/python3.10/dist-packages (from ipython>=4.0.0->ipywidgets) (4.9.0)\n",
            "Requirement already satisfied: notebook>=4.4.1 in /usr/local/lib/python3.10/dist-packages (from widgetsnbextension~=3.6.0->ipywidgets) (6.5.5)\n",
            "Requirement already satisfied: parso<0.9.0,>=0.8.3 in /usr/local/lib/python3.10/dist-packages (from jedi>=0.16->ipython>=4.0.0->ipywidgets) (0.8.3)\n",
            "Requirement already satisfied: jinja2 in /usr/local/lib/python3.10/dist-packages (from notebook>=4.4.1->widgetsnbextension~=3.6.0->ipywidgets) (3.1.3)\n",
            "Requirement already satisfied: pyzmq<25,>=17 in /usr/local/lib/python3.10/dist-packages (from notebook>=4.4.1->widgetsnbextension~=3.6.0->ipywidgets) (23.2.1)\n",
            "Requirement already satisfied: argon2-cffi in /usr/local/lib/python3.10/dist-packages (from notebook>=4.4.1->widgetsnbextension~=3.6.0->ipywidgets) (23.1.0)\n",
            "Requirement already satisfied: jupyter-core>=4.6.1 in /usr/local/lib/python3.10/dist-packages (from notebook>=4.4.1->widgetsnbextension~=3.6.0->ipywidgets) (5.7.2)\n",
            "Requirement already satisfied: nbformat in /usr/local/lib/python3.10/dist-packages (from notebook>=4.4.1->widgetsnbextension~=3.6.0->ipywidgets) (5.10.3)\n",
            "Requirement already satisfied: nbconvert>=5 in /usr/local/lib/python3.10/dist-packages (from notebook>=4.4.1->widgetsnbextension~=3.6.0->ipywidgets) (6.5.4)\n",
            "Requirement already satisfied: nest-asyncio>=1.5 in /usr/local/lib/python3.10/dist-packages (from notebook>=4.4.1->widgetsnbextension~=3.6.0->ipywidgets) (1.6.0)\n",
            "Requirement already satisfied: Send2Trash>=1.8.0 in /usr/local/lib/python3.10/dist-packages (from notebook>=4.4.1->widgetsnbextension~=3.6.0->ipywidgets) (1.8.2)\n",
            "Requirement already satisfied: terminado>=0.8.3 in /usr/local/lib/python3.10/dist-packages (from notebook>=4.4.1->widgetsnbextension~=3.6.0->ipywidgets) (0.18.1)\n",
            "Requirement already satisfied: prometheus-client in /usr/local/lib/python3.10/dist-packages (from notebook>=4.4.1->widgetsnbextension~=3.6.0->ipywidgets) (0.20.0)\n",
            "Requirement already satisfied: nbclassic>=0.4.7 in /usr/local/lib/python3.10/dist-packages (from notebook>=4.4.1->widgetsnbextension~=3.6.0->ipywidgets) (1.0.0)\n",
            "Requirement already satisfied: python-dateutil>=2.1 in /usr/local/lib/python3.10/dist-packages (from jupyter-client->ipykernel>=4.5.1->ipywidgets) (2.8.2)\n",
            "Requirement already satisfied: ptyprocess>=0.5 in /usr/local/lib/python3.10/dist-packages (from pexpect>4.3->ipython>=4.0.0->ipywidgets) (0.7.0)\n",
            "Requirement already satisfied: wcwidth in /usr/local/lib/python3.10/dist-packages (from prompt-toolkit!=3.0.0,!=3.0.1,<3.1.0,>=2.0.0->ipython>=4.0.0->ipywidgets) (0.2.13)\n",
            "Requirement already satisfied: platformdirs>=2.5 in /usr/local/lib/python3.10/dist-packages (from jupyter-core>=4.6.1->notebook>=4.4.1->widgetsnbextension~=3.6.0->ipywidgets) (4.2.0)\n",
            "Requirement already satisfied: jupyter-server>=1.8 in /usr/local/lib/python3.10/dist-packages (from nbclassic>=0.4.7->notebook>=4.4.1->widgetsnbextension~=3.6.0->ipywidgets) (1.24.0)\n",
            "Requirement already satisfied: notebook-shim>=0.2.3 in /usr/local/lib/python3.10/dist-packages (from nbclassic>=0.4.7->notebook>=4.4.1->widgetsnbextension~=3.6.0->ipywidgets) (0.2.4)\n",
            "Requirement already satisfied: lxml in /usr/local/lib/python3.10/dist-packages (from nbconvert>=5->notebook>=4.4.1->widgetsnbextension~=3.6.0->ipywidgets) (4.9.4)\n",
            "Requirement already satisfied: beautifulsoup4 in /usr/local/lib/python3.10/dist-packages (from nbconvert>=5->notebook>=4.4.1->widgetsnbextension~=3.6.0->ipywidgets) (4.12.3)\n",
            "Requirement already satisfied: bleach in /usr/local/lib/python3.10/dist-packages (from nbconvert>=5->notebook>=4.4.1->widgetsnbextension~=3.6.0->ipywidgets) (6.1.0)\n",
            "Requirement already satisfied: defusedxml in /usr/local/lib/python3.10/dist-packages (from nbconvert>=5->notebook>=4.4.1->widgetsnbextension~=3.6.0->ipywidgets) (0.7.1)\n",
            "Requirement already satisfied: entrypoints>=0.2.2 in /usr/local/lib/python3.10/dist-packages (from nbconvert>=5->notebook>=4.4.1->widgetsnbextension~=3.6.0->ipywidgets) (0.4)\n",
            "Requirement already satisfied: jupyterlab-pygments in /usr/local/lib/python3.10/dist-packages (from nbconvert>=5->notebook>=4.4.1->widgetsnbextension~=3.6.0->ipywidgets) (0.3.0)\n",
            "Requirement already satisfied: MarkupSafe>=2.0 in /usr/local/lib/python3.10/dist-packages (from nbconvert>=5->notebook>=4.4.1->widgetsnbextension~=3.6.0->ipywidgets) (2.1.5)\n",
            "Requirement already satisfied: mistune<2,>=0.8.1 in /usr/local/lib/python3.10/dist-packages (from nbconvert>=5->notebook>=4.4.1->widgetsnbextension~=3.6.0->ipywidgets) (0.8.4)\n",
            "Requirement already satisfied: nbclient>=0.5.0 in /usr/local/lib/python3.10/dist-packages (from nbconvert>=5->notebook>=4.4.1->widgetsnbextension~=3.6.0->ipywidgets) (0.10.0)\n",
            "Requirement already satisfied: packaging in /usr/local/lib/python3.10/dist-packages (from nbconvert>=5->notebook>=4.4.1->widgetsnbextension~=3.6.0->ipywidgets) (24.0)\n",
            "Requirement already satisfied: pandocfilters>=1.4.1 in /usr/local/lib/python3.10/dist-packages (from nbconvert>=5->notebook>=4.4.1->widgetsnbextension~=3.6.0->ipywidgets) (1.5.1)\n",
            "Requirement already satisfied: tinycss2 in /usr/local/lib/python3.10/dist-packages (from nbconvert>=5->notebook>=4.4.1->widgetsnbextension~=3.6.0->ipywidgets) (1.2.1)\n",
            "Requirement already satisfied: fastjsonschema in /usr/local/lib/python3.10/dist-packages (from nbformat->notebook>=4.4.1->widgetsnbextension~=3.6.0->ipywidgets) (2.19.1)\n",
            "Requirement already satisfied: jsonschema>=2.6 in /usr/local/lib/python3.10/dist-packages (from nbformat->notebook>=4.4.1->widgetsnbextension~=3.6.0->ipywidgets) (4.19.2)\n",
            "Requirement already satisfied: six>=1.5 in /usr/local/lib/python3.10/dist-packages (from python-dateutil>=2.1->jupyter-client->ipykernel>=4.5.1->ipywidgets) (1.16.0)\n",
            "Requirement already satisfied: argon2-cffi-bindings in /usr/local/lib/python3.10/dist-packages (from argon2-cffi->notebook>=4.4.1->widgetsnbextension~=3.6.0->ipywidgets) (21.2.0)\n",
            "Requirement already satisfied: attrs>=22.2.0 in /usr/local/lib/python3.10/dist-packages (from jsonschema>=2.6->nbformat->notebook>=4.4.1->widgetsnbextension~=3.6.0->ipywidgets) (23.2.0)\n",
            "Requirement already satisfied: jsonschema-specifications>=2023.03.6 in /usr/local/lib/python3.10/dist-packages (from jsonschema>=2.6->nbformat->notebook>=4.4.1->widgetsnbextension~=3.6.0->ipywidgets) (2023.12.1)\n",
            "Requirement already satisfied: referencing>=0.28.4 in /usr/local/lib/python3.10/dist-packages (from jsonschema>=2.6->nbformat->notebook>=4.4.1->widgetsnbextension~=3.6.0->ipywidgets) (0.34.0)\n",
            "Requirement already satisfied: rpds-py>=0.7.1 in /usr/local/lib/python3.10/dist-packages (from jsonschema>=2.6->nbformat->notebook>=4.4.1->widgetsnbextension~=3.6.0->ipywidgets) (0.18.0)\n",
            "Requirement already satisfied: anyio<4,>=3.1.0 in /usr/local/lib/python3.10/dist-packages (from jupyter-server>=1.8->nbclassic>=0.4.7->notebook>=4.4.1->widgetsnbextension~=3.6.0->ipywidgets) (3.7.1)\n",
            "Requirement already satisfied: websocket-client in /usr/local/lib/python3.10/dist-packages (from jupyter-server>=1.8->nbclassic>=0.4.7->notebook>=4.4.1->widgetsnbextension~=3.6.0->ipywidgets) (1.7.0)\n",
            "Requirement already satisfied: cffi>=1.0.1 in /usr/local/lib/python3.10/dist-packages (from argon2-cffi-bindings->argon2-cffi->notebook>=4.4.1->widgetsnbextension~=3.6.0->ipywidgets) (1.16.0)\n",
            "Requirement already satisfied: soupsieve>1.2 in /usr/local/lib/python3.10/dist-packages (from beautifulsoup4->nbconvert>=5->notebook>=4.4.1->widgetsnbextension~=3.6.0->ipywidgets) (2.5)\n",
            "Requirement already satisfied: webencodings in /usr/local/lib/python3.10/dist-packages (from bleach->nbconvert>=5->notebook>=4.4.1->widgetsnbextension~=3.6.0->ipywidgets) (0.5.1)\n",
            "Requirement already satisfied: idna>=2.8 in /usr/local/lib/python3.10/dist-packages (from anyio<4,>=3.1.0->jupyter-server>=1.8->nbclassic>=0.4.7->notebook>=4.4.1->widgetsnbextension~=3.6.0->ipywidgets) (3.6)\n",
            "Requirement already satisfied: sniffio>=1.1 in /usr/local/lib/python3.10/dist-packages (from anyio<4,>=3.1.0->jupyter-server>=1.8->nbclassic>=0.4.7->notebook>=4.4.1->widgetsnbextension~=3.6.0->ipywidgets) (1.3.1)\n",
            "Requirement already satisfied: exceptiongroup in /usr/local/lib/python3.10/dist-packages (from anyio<4,>=3.1.0->jupyter-server>=1.8->nbclassic>=0.4.7->notebook>=4.4.1->widgetsnbextension~=3.6.0->ipywidgets) (1.2.0)\n",
            "Requirement already satisfied: pycparser in /usr/local/lib/python3.10/dist-packages (from cffi>=1.0.1->argon2-cffi-bindings->argon2-cffi->notebook>=4.4.1->widgetsnbextension~=3.6.0->ipywidgets) (2.21)\n",
            "Installing collected packages: jedi\n",
            "Successfully installed jedi-0.19.1\n"
          ]
        }
      ]
    },
    {
      "cell_type": "code",
      "source": [
        "import ipywidgets as widgets\n",
        "from ipywidgets import interact"
      ],
      "metadata": {
        "id": "Xuc7afsTGf6X"
      },
      "execution_count": null,
      "outputs": []
    },
    {
      "cell_type": "code",
      "execution_count": null,
      "metadata": {
        "id": "yKA5G5233ZCs"
      },
      "outputs": [],
      "source": [
        "import numpy as np\n",
        "import matplotlib.pyplot as plt\n",
        "%matplotlib inline\n",
        "import scipy\n",
        "import pandas as pd\n",
        "import seaborn as sns\n",
        "import sympy\n",
        "import math\n",
        "from IPython.display import display, HTML, Math\n",
        "import time"
      ]
    },
    {
      "cell_type": "code",
      "source": [
        "style = {'description_width': 'initial'}\n",
        "N_slider = widgets.IntSlider(\n",
        "    value=100,\n",
        "    min=50,\n",
        "    max=200,\n",
        "    step=10,\n",
        "    description='Number of Particles',\n",
        "    style = style,\n",
        "    disabled=False,\n",
        "    continuous_update=False,\n",
        "    orientation='horizontal',\n",
        "    readout=True,\n",
        "    readout_format='d'\n",
        ")\n",
        "k_slider = widgets.FloatLogSlider(\n",
        "    value=100,\n",
        "    base=10,\n",
        "    min=1, # max exponent of base\n",
        "    max=10, # min exponent of base\n",
        "    step=1.0, # exponent step\n",
        "    description='Confinement'\n",
        ")\n",
        "interaction_type_slider =  widgets.Dropdown(\n",
        "    options=['Newtonian', 'Bessel'],\n",
        "    value='Newtonian',\n",
        "    description='Aggregation Kernel:',\n",
        "    style = style,\n",
        "    disabled=False,\n",
        ")\n",
        "agg_sign_slider = widgets.Dropdown(\n",
        "    options=[('Attractive', 1), ('Repulsive', -1)],\n",
        "    value=1,\n",
        "    description='if Newtonian',\n",
        ")\n",
        "distribution_slider = widgets.Dropdown(\n",
        "    options=['uniform', 'piece-wise', 'log-concave'],\n",
        "    value='uniform',\n",
        "    description='Target Distribution',\n",
        "    style = style,\n",
        "    disabled=False,\n",
        ")\n",
        "initial_data_slider = widgets.Dropdown(\n",
        "    options=['Barenblatt', 'piece-wise', 'uniform', 'cosine', 'polynomial'],\n",
        "    value='Barenblatt',\n",
        "    description='Initial Data',\n",
        "    style = style,\n",
        "    disabled=False,\n",
        ")\n",
        "add_diff_term_slider = widgets.Dropdown(\n",
        "    options=[('Yes', 1), ('No', 0)],\n",
        "    value=1,\n",
        "    description='Add Diffusion?',\n",
        "    style = style,\n",
        ")\n",
        "add_interaction_term_slider = widgets.Dropdown(\n",
        "    options=[('Yes', 1), ('No', 0)],\n",
        "    value=0,\n",
        "    description='Add Aggregation?',\n",
        "    style = style,\n",
        ")\n",
        "add_drift_term_slider = widgets.Dropdown(\n",
        "    options=[('Yes', 1), ('No', 0)],\n",
        "    value=0,\n",
        "    description='Add Drift?',\n",
        "    style = style,\n",
        ")"
      ],
      "metadata": {
        "id": "T8oSMeYctb5V"
      },
      "execution_count": null,
      "outputs": []
    },
    {
      "cell_type": "markdown",
      "source": [
        "# Define Parameters"
      ],
      "metadata": {
        "id": "6ZmOSzj5LztV"
      }
    },
    {
      "cell_type": "markdown",
      "source": [
        "Here is the cell where we can change the variables we want such as the number of particles ($N$) or the target distribution (distribution). We can also choose whether we want to include any or all of the diffusion, aggregation, and drift. For example, to add the diffusion term, we set add_diff_term = 1 (this means True). There is a printout of some of the variables to keep track of the values of the variables for the current run.\n",
        "\n",
        "If you prefer, then you can ignore the immediate cell below and define the parameters via the widgets.\n",
        "\n"
      ],
      "metadata": {
        "id": "Yqbq9Vw71Owv"
      }
    },
    {
      "cell_type": "code",
      "source": [
        "### initialize values (number or robots/particles, confinement strength, target distribution)\n",
        "### the number of particles\n",
        "N = 100 ## N = 20 , 50, 70, 100, 150,200\n",
        "epsilon = 4/N**0.99\n",
        "### the strength of confinement\n",
        "k = 100 ## k = 10, 100, 1e4, 1e9\n",
        "### max_step in ode solver + start and end time\n",
        "max_step = 10**(-2) ## max_step = 10**(-2) - 10**(-5)\n",
        "start_time = 0\n",
        "end_time = 1\n",
        "d = 1 ## dimension (only works for d=1 at the moment)\n",
        "### coefficients of the diffusion and aggregation\n",
        "diff_coef = 1\n",
        "agg_coef = 1\n",
        "### Sign of aggregation\n",
        "agg_sign = 1 ## For aggregation, sign = 1 attractive, sign = -1 repulsive\n",
        "mollifier_type = 'Gaussian'\n",
        "## initial_data = 'Barenblatt', 'piece-wise', 'uniform', 'cosine', 'polynomial'\n",
        "initial_data = 'Barenblatt'\n",
        "### target distrubtion\n",
        "## distribution ='uniform', 'piece-wise', 'log-concave'\n",
        "distribution = 'uniform'\n",
        "\n",
        "# add_diffusion_term = 0 ## 'no'\n",
        "add_diffusion_term = 1 ## 'yes'\n",
        "\n",
        "add_drift_term = 0 ## 'no'\n",
        "# add_drift_term = 1 ## 'yes'\n",
        "\n",
        "add_interaction_term = 0 ## 'no'\n",
        "# add_interaction_term = 1 ## 'yes'\n",
        "\n",
        "interaction_type = 'Newtonian' ## interaction_type = 'Newtonian', \"Bessel\"\n",
        "\n",
        "if add_diffusion_term:\n",
        "  print('diffusion term included')\n",
        "if add_drift_term:\n",
        "  print('drift term included')\n",
        "if add_interaction_term:\n",
        "  if interaction_type == 'Newtonian':\n",
        "    if agg_sign == 1:\n",
        "      print(f'interaction term included (Attractive {interaction_type})')\n",
        "    elif agg_sign == -1:\n",
        "      print(f'interaction term included (Replusive {interaction_type})')\n",
        "    else:\n",
        "      print(f'interaction term included ({interaction_type})')\n",
        "  else:\n",
        "    print(f'interaction term included ({interaction_type})')\n",
        "\n",
        "print(f'N = {N}, k = {k}, epsilon = {epsilon:0.5f}, max_step = {max_step}, end_time = {end_time}')\n",
        "print(f'distribution = {distribution}, initial data = {initial_data}, \\\n",
        "diff coef = {diff_coef}, agg sign = {agg_sign}, mollifier = {mollifier_type}')"
      ],
      "metadata": {
        "colab": {
          "base_uri": "https://localhost:8080/"
        },
        "id": "TH6yfci8qs40",
        "outputId": "9694ddff-7e41-45d5-f4ab-a5453cb2e046"
      },
      "execution_count": null,
      "outputs": [
        {
          "output_type": "stream",
          "name": "stdout",
          "text": [
            "diffusion term included\n",
            "N = 100, k = 100, epsilon = 0.04189, max_step = 0.01, end_time = 1\n",
            "distribution = uniform, initial data = Barenblatt, diff coef = 1, agg sign = 1, mollifier = Gaussian\n"
          ]
        }
      ]
    },
    {
      "cell_type": "markdown",
      "source": [
        "If you decide to use the widgets to choose the parameter values, then go ahead and do so."
      ],
      "metadata": {
        "id": "gVypt3mMMCeh"
      }
    },
    {
      "cell_type": "code",
      "source": [
        "box = widgets.VBox([N_slider,k_slider,distribution_slider,initial_data_slider,\n",
        "                    add_diff_term_slider, add_drift_term_slider,add_interaction_term_slider,\n",
        "                    interaction_type_slider,agg_sign_slider])\n",
        "\n",
        "display(box)"
      ],
      "metadata": {
        "colab": {
          "base_uri": "https://localhost:8080/",
          "height": 305,
          "referenced_widgets": [
            "a2d009ba85b943918e71c3fd50abcd39",
            "e2d8ee5482f64bf7a122c45c5c78a3ef",
            "8d6c303c879c410aad96d5375bd1395f",
            "66aa8d03a0074bc2ae33395f4fcf3340",
            "f3d5c0a667b24cb8b43333565f1a4d6c",
            "5737e8a9a5ab49498594e26d0df601ad",
            "2540ad8df9ba472788e09b3d4270524e",
            "77608b208b3444a9bb1fc5f62d16707f",
            "6619ef05856b4994879f74e649071e98",
            "f4b97712c19245bb9762c5c016967fb5",
            "14da737215a14a5f8f9cfdd996f5a643",
            "9306504b822b477784fd7dd5107e9082",
            "628cb3b23acb4606a508e1d2945f5188",
            "ef6b2aadb9df4ce3951eea1781d3bf3f",
            "db63105228ea4b6b96e1c1df599e63c1",
            "3a5e5c30a1e94470bc84fc3fd497af8b",
            "8d5e33cd90e647cb8e4b16d87415154a",
            "83b7c00765d449d8b1527d2680c527a2",
            "14457b5f570b4b6182c1faabb72557d9",
            "b6c46b39e3d649cfac5108d1d174f0b2",
            "dd4aaede08e9487fb362078ead485748",
            "275f4643afd346e59b9ae865f945ddb8",
            "49282e74792c4988b2958a4ed7617d9e",
            "8e40550177504a16aee9ccf54d88d39b",
            "5f03ec1cbc1344d18d2357eea746d288",
            "f532d3b7aac74967aada749b46c5f133",
            "ed8c119a74444897bb4a737240ac605b",
            "7fc7516853dd47da93e198226cd1731c",
            "5e52320385674c3eb5963e4e74da357e"
          ]
        },
        "id": "xecbl-82uGEn",
        "outputId": "81e47801-c1a4-45b2-eac7-07007b240455"
      },
      "execution_count": null,
      "outputs": [
        {
          "output_type": "display_data",
          "data": {
            "text/plain": [
              "VBox(children=(IntSlider(value=100, continuous_update=False, description='Number of Particles', max=200, min=5…"
            ],
            "application/vnd.jupyter.widget-view+json": {
              "version_major": 2,
              "version_minor": 0,
              "model_id": "a2d009ba85b943918e71c3fd50abcd39"
            }
          },
          "metadata": {}
        }
      ]
    },
    {
      "cell_type": "markdown",
      "source": [
        "After you are satisfied with the parameters you chose, run the next section."
      ],
      "metadata": {
        "id": "WakPY2J-BAca"
      }
    },
    {
      "cell_type": "markdown",
      "source": [
        "# Initialize Values for Widgets"
      ],
      "metadata": {
        "id": "ozOf9LgKWYd5"
      }
    },
    {
      "cell_type": "markdown",
      "source": [
        "Run this section only if you are using the widgets to select the parameter values.\n",
        "Run the previous section before this section. Do not run them concurrently/simultanously. Confirm the values you chose (via widgets) are printed below. If not, then rerun the widget (last section) and then rerun this section.\n",
        "\n"
      ],
      "metadata": {
        "id": "yQSDoc9Gb5uI"
      }
    },
    {
      "cell_type": "code",
      "source": [
        "### initialize values (number or robots/particles, confinement strength, target distribution)\n",
        "### the number of particles\n",
        "N = N_slider.value ## N = 20 , 50, 70, 100, 200\n",
        "epsilon = 4/N**0.99\n",
        "### the strength of confinement\n",
        "k = k_slider.value ## k = 10, 100, 1e4, 1e9\n",
        "### max_step in ode solver + start and end time\n",
        "max_step = 10**(-2) ## max_step = 10**(-2) - 10**(-5)\n",
        "start_time = 0\n",
        "end_time = 1\n",
        "d = 1 ## dimension (only works for d=1 at the moment)\n",
        "### coefficients of the diffusion and aggregation\n",
        "diff_coef = 1\n",
        "agg_coef = 1\n",
        "### Sign of aggregation\n",
        "agg_sign = agg_sign_slider.value ## For aggregation, sign = 1 attractive, sign = -1 repulsive\n",
        "mollifier_type = 'Gaussian'\n",
        "## initial_data = 'Barenblatt', 'piece-wise', 'uniform', 'cosine', 'polynomial'\n",
        "initial_data = initial_data_slider.value\n",
        "### target distrubtion\n",
        "## distribution ='uniform', 'piece-wise', 'log-concave'\n",
        "distribution = distribution_slider.value\n",
        "\n",
        "add_diffusion_term = add_diff_term_slider.value ## 1 means 'yes' and 0 mean 'no'\n",
        "add_drift_term = add_drift_term_slider.value ## 1 means 'yes' and 0 mean 'no'\n",
        "add_interaction_term = add_interaction_term_slider.value ## 1 means 'yes' and 0 mean 'no'\n",
        "\n",
        "interaction_type = interaction_type_slider.value ## interaction_type = 'Newtonian', \"Bessel\"\n",
        "\n",
        "print('Using sliders values.')\n",
        "if add_diffusion_term:\n",
        "  print('diffusion term included')\n",
        "if add_drift_term:\n",
        "  print('drift term included')\n",
        "if add_interaction_term:\n",
        "  if interaction_type == 'Newtonian':\n",
        "    if agg_sign == 1:\n",
        "      print(f'interaction term included (Attractive {interaction_type})')\n",
        "    elif agg_sign == -1:\n",
        "      print(f'interaction term included (Replusive {interaction_type})')\n",
        "    else:\n",
        "      print(f'interaction term included ({interaction_type})')\n",
        "  else:\n",
        "    print(f'interaction term included ({interaction_type})')\n",
        "\n",
        "print(f'N = {N}, k = {k}, epsilon = {epsilon:0.5f}, max_step = {max_step}, end_time = {end_time}')\n",
        "print(f'distribution = {distribution}, initial data = {initial_data}, \\\n",
        "diff coef = {diff_coef}, agg sign = {agg_sign}, mollifier = {mollifier_type}')"
      ],
      "metadata": {
        "id": "A9zijg6d5lSt",
        "colab": {
          "base_uri": "https://localhost:8080/"
        },
        "outputId": "50c9837a-3df7-4edc-d445-5ab8061456f4"
      },
      "execution_count": null,
      "outputs": [
        {
          "output_type": "stream",
          "name": "stdout",
          "text": [
            "Using sliders values.\n",
            "diffusion term included\n",
            "N = 100, k = 100.0, epsilon = 0.04189, max_step = 0.01, end_time = 1\n",
            "distribution = uniform, initial data = Barenblatt, diff coef = 1, agg sign = 1, mollifier = Gaussian\n"
          ]
        }
      ]
    },
    {
      "cell_type": "markdown",
      "source": [
        "# Approximating Solution to WPME"
      ],
      "metadata": {
        "id": "6mk1Rw0cI-8q"
      }
    },
    {
      "cell_type": "markdown",
      "source": [
        "## Intro / Set up"
      ],
      "metadata": {
        "id": "8diBurIObjsK"
      }
    },
    {
      "cell_type": "markdown",
      "source": [
        "We create the region $\\Omega$ that contains $N$ internals. Each of the $N$ initial particles locations are going to be initialized at the middle of $N^{\\text{th}}$ interval, respectively. We give the particles mass based on the initial condition of the solution."
      ],
      "metadata": {
        "id": "J4Q4uTvr3BxJ"
      }
    },
    {
      "cell_type": "code",
      "source": [
        "## create region, initial particles locations,\n",
        "omega = np.linspace(-1,1, N+1) # N+1 elements to give N intervals\n",
        "volume = omega[-1] - omega[0]\n",
        "h = volume / N\n",
        "X_0 = (omega[1:] + omega[:-1]) / 2\n",
        "\n",
        "## initial condition\n",
        "coef_array = [1, 0,0,0, -1]\n",
        "def psi(x, initial_data = initial_data, coef_array = coef_array,tau = 0.0625):\n",
        "  \"\"\"The initial condition given initial data. Gives mass to particles based on\n",
        "  distribution.\n",
        "\n",
        "  Parameters\n",
        "  ----------\n",
        "  x: list\n",
        "    Particle locations\n",
        "  initial_data: str, optional\n",
        "    Distribution of initial data\n",
        "  coef_array: list\n",
        "    List of coeficients of polynomial (if initial_data == 'polynomial')\n",
        "  tau: float\n",
        "    Scalar parameter in Barenblatt profile\n",
        "\n",
        "  Returns\n",
        "  -------\n",
        "  list\n",
        "    list of floats\n",
        "\n",
        "  \"\"\"\n",
        "  if initial_data == 'Barenblatt':\n",
        "    return (tau**(-1/3) / 12)* max( 3 **(4/3) - abs(x)**2 / tau**(2/3), 0)\n",
        "  elif initial_data == 'piece-wise':\n",
        "    if (-0.75 <= x and x < -0.25 ) or (0.25 <= x and x < 0.75):\n",
        "      return 2/3\n",
        "    else:\n",
        "      return 1/3\n",
        "  elif initial_data == 'uniform':\n",
        "    return 1/2\n",
        "  elif initial_data == 'cosine':\n",
        "    p = np.cos(10*x) +2\n",
        "    modulus =  np.sum(p)\n",
        "    return p / (h*modulus)\n",
        "  elif initial_data == 'polynomial':\n",
        "    ## coef_array = [1,2,3] -> p = 1 + 2*x + 3*x**2\n",
        "    p = np.polynomial.Polynomial(coef_array)(x)\n",
        "    modulus =  np.sum(p)\n",
        "    return p / (h*modulus)\n",
        "\n",
        "\n",
        "if initial_data == 'piece-wise' or initial_data == 'uniform' or initial_data == 'Barenblatt':\n",
        "  psi = np.vectorize(psi)\n",
        "\n",
        "## give mass to particles\n",
        "rho_0 = psi(X_0)\n",
        "m = h*rho_0"
      ],
      "metadata": {
        "id": "B_Q9UHzK9KDs"
      },
      "execution_count": null,
      "outputs": []
    },
    {
      "cell_type": "markdown",
      "source": [
        "Here we define the mollifer. In this work we deal only with the Gaussian, but this can be changed if desired. We define the integrand $V$ for the drift and $W$ for the aggrgation. In particular, the aggregation/interaction is either defined with the Newtonian kernel or the Bessel kernel. The Bessel kernel tends to run much slower due to an extra integration."
      ],
      "metadata": {
        "id": "t5i9LsHq32h0"
      }
    },
    {
      "cell_type": "code",
      "source": [
        "def mollifier(x, epsilon): ## Gaussian\n",
        "  \"\"\"Generates the Gaussian mollifier.\n",
        "\n",
        "  Parameters\n",
        "  ----------\n",
        "  x: list\n",
        "    particle locations\n",
        "  epsilon: float\n",
        "    limiting variable for approximation\n",
        "\n",
        "  Returns\n",
        "  -------\n",
        "  list\n",
        "    list of scalars that are values of the Gaussian\n",
        "\n",
        "\n",
        "  \"\"\"\n",
        "  return np.exp(-x**2 / (2*epsilon**2) ) / np.sqrt(2*np.pi*epsilon**2)"
      ],
      "metadata": {
        "id": "DkVGLNUwdySp"
      },
      "execution_count": null,
      "outputs": []
    },
    {
      "cell_type": "code",
      "source": [
        "def V(x):\n",
        "  \"\"\"The integrand of the potential/drift energy.\n",
        "\n",
        "  Parameters\n",
        "  ----------\n",
        "  x: list\n",
        "    Particle locations\n",
        "\n",
        "  Returns\n",
        "  -------\n",
        "  list\n",
        "    list of floats\n",
        "\n",
        "  \"\"\"\n",
        "  V = x**2 / 2\n",
        "  return V"
      ],
      "metadata": {
        "id": "Y6IpTcafd8VD"
      },
      "execution_count": null,
      "outputs": []
    },
    {
      "cell_type": "markdown",
      "source": [
        "For reference to Newtonian and Bessel kernels see https://arxiv.org/abs/1203.3573 and https://arxiv.org/abs/1003.4182."
      ],
      "metadata": {
        "id": "fp_pYYwdHl9a"
      }
    },
    {
      "cell_type": "code",
      "source": [
        "def Newtonian(x,d = 1): ## kernel for  - \\Delta v = u (notice negative)\n",
        "  \"\"\"The Newtonian function for the aggregation/interaction energy.\n",
        "\n",
        "  Parameters\n",
        "  ----------\n",
        "  x: list\n",
        "    Particle locations\n",
        "  d: float\n",
        "    dimension (default is 1)\n",
        "\n",
        "  Returns\n",
        "  -------\n",
        "  list\n",
        "    list of floats\n",
        "\n",
        "  \"\"\"\n",
        "  if d != 2:\n",
        "    w_d = np.pi **(d/2) / math.gamma( d/2 +1)\n",
        "    return ( abs(x)**(2-d) /  (d*(d-2)*w_d)  )\n",
        "  elif d == 2:\n",
        "    return - np.log(abs(x)) / (2*np.pi)"
      ],
      "metadata": {
        "id": "hj1tcNjIeFjj"
      },
      "execution_count": null,
      "outputs": []
    },
    {
      "cell_type": "code",
      "source": [
        "def Bessel_integrand(s , x, a, d):\n",
        "  \"\"\"The Bessel inegrand for the Bessel function. Used only in Bessel function.\n",
        "\n",
        "  Parameters\n",
        "  ----------\n",
        "  s: dummy variable\n",
        "  x: list\n",
        "    Particle locations\n",
        "  a: float\n",
        "    alpha parameter in Bessel function\n",
        "  d: float\n",
        "    dimension\n",
        "\n",
        "  Returns\n",
        "  -------\n",
        "  list\n",
        "    list of floats\n",
        "\n",
        "  \"\"\"\n",
        "  return np.exp(- abs(x)**2 / (4*s) - a*s) / (4*np.pi*s)**(d/2)"
      ],
      "metadata": {
        "id": "AGdRRmgBePe9"
      },
      "execution_count": null,
      "outputs": []
    },
    {
      "cell_type": "code",
      "source": [
        "def W(x, a = 1, d = 1, sign = agg_sign, interaction_type = interaction_type):\n",
        "  \"\"\"Kernel for aggregation/interaction energy.\n",
        "\n",
        "  Parameters\n",
        "  ----------\n",
        "  x: list\n",
        "    Particle locations\n",
        "  a: float, optional\n",
        "    alpha parameter in Bessel function (default is 1)\n",
        "  d: float, optional\n",
        "    dimension (default is 1)\n",
        "  sign: float, optional\n",
        "    Sign of aggregation. 1 represents attraction and -1 represents repulsion.\n",
        "  interaction_type: string\n",
        "    There are two options: Newtonian (default) and Bessel\n",
        "\n",
        "  Returns\n",
        "  -------\n",
        "  list\n",
        "    list of floats\n",
        "\n",
        "  \"\"\"\n",
        "  ### Newtonian\n",
        "  if interaction_type == 'Newtonian':\n",
        "    W = Newtonian(x, d)\n",
        "  ### Bessel\n",
        "  elif interaction_type == 'Bessel':\n",
        "    s = np.linspace(0.001, 50, 4000) ## time\n",
        "    s = s.reshape(-1,1, 1, 1) ## this is b/c input shape is x.shape = (len(x_span), N, 1)\n",
        "    W = scipy.integrate.simpson(Bessel_integrand(s, x, a, d) , x = s.flatten(), axis = 0)\n",
        "  return W * sign"
      ],
      "metadata": {
        "id": "NHhIY-iReUsA"
      },
      "execution_count": null,
      "outputs": []
    },
    {
      "cell_type": "markdown",
      "source": [
        "We define the weight ($a(x)$ in the pde above). When there is no drift or aggregation/interaction ($V=W=0$), then $a(x)$ is the steady-state (or target) and will be plotted. As the input to the weight is a vector, the weight needs to be vectorized in some situations. One example is when the distribution = 'piece-wise' as conditional statement of a vector is ambiguous."
      ],
      "metadata": {
        "id": "HSkbSBvy4fBx"
      }
    },
    {
      "cell_type": "code",
      "source": [
        "## weight\n",
        "def weight(b, distribution = distribution):\n",
        "  \"\"\"The weight or inhomogeneity of the porous medium equation (PME).\n",
        "\n",
        "  Parameters\n",
        "  ----------\n",
        "  b: list\n",
        "    Particle locations\n",
        "  distribution: string, optional\n",
        "    String of which weight distribution is desired (default distribution).\n",
        "\n",
        "  Returns\n",
        "  -------\n",
        "  list\n",
        "    list of floats\n",
        "\n",
        "  \"\"\"\n",
        "  if distribution == 'uniform':\n",
        "    return 1/2\n",
        "  elif distribution == 'piece-wise':\n",
        "    if (-0.75 <= b and b < -0.25 ) or (0.25 <= b and b < 0.75):\n",
        "      return 2/3\n",
        "    else:\n",
        "      return 1/3\n",
        "  elif distribution == 'log-concave':\n",
        "    C_rho_bar = 2 / np.pi\n",
        "    return  C_rho_bar /  (1 + abs(b)**2)\n",
        "\n",
        "\n",
        "\n",
        "if distribution == 'piece-wise' or distribution == 'uniform':\n",
        "  weight = np.vectorize(weight)\n",
        "\n",
        "\n",
        "def target(x):\n",
        "  \"\"\"The target function. This is the steady state if V=W=0 and is only called\n",
        "   in that case.\n",
        "\n",
        "  Parameters\n",
        "  ----------\n",
        "  x: list\n",
        "    Particle locations\n",
        "\n",
        "  Returns\n",
        "  -------\n",
        "  list\n",
        "    list of floats\n",
        "\n",
        "  \"\"\"\n",
        "  if not add_drift_term and not add_interaction_term:\n",
        "    return weight(x)\n"
      ],
      "metadata": {
        "id": "KuS3Ki-k3u09"
      },
      "execution_count": null,
      "outputs": []
    },
    {
      "cell_type": "markdown",
      "source": [
        "For the ODE, we define the the derivative of the confinement below. It is done in this way to be efficient."
      ],
      "metadata": {
        "id": "M2yQIVFq5omm"
      }
    },
    {
      "cell_type": "code",
      "source": [
        "def DVk_where(x,k):\n",
        "  \"\"\"The derivative of the confinement function.\n",
        "\n",
        "  Parameters\n",
        "  ----------\n",
        "  x: list\n",
        "    Particle locations\n",
        "  k: float\n",
        "    The strength of confinement.\n",
        "\n",
        "  Returns\n",
        "  -------\n",
        "  list\n",
        "    list of floats\n",
        "\n",
        "  \"\"\"\n",
        "  result = np.zeros(x.shape)\n",
        "  greater1 = np.where(x > 1)\n",
        "  lessneg1 = np.where(x < -1)\n",
        "  result[greater1] = k*(x[greater1]-1)\n",
        "  result[lessneg1] = k*(x[lessneg1]+1)\n",
        "  return result"
      ],
      "metadata": {
        "id": "hyTmvPobe0nd"
      },
      "execution_count": null,
      "outputs": []
    },
    {
      "cell_type": "markdown",
      "source": [
        "## Graphs of functions, target, initial data"
      ],
      "metadata": {
        "id": "O0c_1mPVLPin"
      }
    },
    {
      "cell_type": "markdown",
      "source": [
        "We plot the functions here if they are included.\n",
        "\n",
        "\n"
      ],
      "metadata": {
        "id": "bWiQQ3Ld6S7P"
      }
    },
    {
      "cell_type": "code",
      "source": [
        "plt.plot(X_0, np.zeros(X_0.shape), 'o')\n",
        "plt.plot(X_0, rho_0,'-')\n",
        "plt.title('Initial Condition')\n",
        "None"
      ],
      "metadata": {
        "id": "HAFWy3tiU1dV",
        "colab": {
          "base_uri": "https://localhost:8080/",
          "height": 452
        },
        "outputId": "fa3828dc-3fbf-494a-dff5-cfb15980cdf4"
      },
      "execution_count": null,
      "outputs": [
        {
          "output_type": "display_data",
          "data": {
            "text/plain": [
              "<Figure size 640x480 with 1 Axes>"
            ],
            "image/png": "[encoded data removed]"
          },
          "metadata": {}
        }
      ]
    },
    {
      "cell_type": "code",
      "source": [
        "plt.plot(omega, weight(omega))\n",
        "plt.title('Weight')\n",
        "plt.show()\n",
        "None"
      ],
      "metadata": {
        "id": "nsoSxz3MA_xj",
        "colab": {
          "base_uri": "https://localhost:8080/",
          "height": 452
        },
        "outputId": "f3895e31-3986-45c6-ef71-91c5180ba223"
      },
      "execution_count": null,
      "outputs": [
        {
          "output_type": "display_data",
          "data": {
            "text/plain": [
              "<Figure size 640x480 with 1 Axes>"
            ],
            "image/png": "[encoded data removed]"
          },
          "metadata": {}
        }
      ]
    },
    {
      "cell_type": "code",
      "source": [
        "## target measure plot\n",
        "if not add_drift_term and not add_interaction_term:\n",
        "  plt.plot(omega, target(omega))\n",
        "  plt.title('Target')\n",
        "  plt.show()\n",
        "  None"
      ],
      "metadata": {
        "id": "UtDBS83RyzKO",
        "colab": {
          "base_uri": "https://localhost:8080/",
          "height": 452
        },
        "outputId": "1ecb249a-23aa-4ea3-cb8e-7e94b1aa5254"
      },
      "execution_count": null,
      "outputs": [
        {
          "output_type": "display_data",
          "data": {
            "text/plain": [
              "<Figure size 640x480 with 1 Axes>"
            ],
            "image/png": "[encoded data removed]"
          },
          "metadata": {}
        }
      ]
    },
    {
      "cell_type": "code",
      "source": [
        "if add_interaction_term:\n",
        "  plt.plot(omega, W(omega))\n",
        "  plt.title('W')\n",
        "  plt.show()\n",
        "  None"
      ],
      "metadata": {
        "id": "e5tpOBLk8dQ1"
      },
      "execution_count": null,
      "outputs": []
    },
    {
      "cell_type": "code",
      "source": [
        "if add_drift_term:\n",
        "  plt.plot(omega, V(omega))\n",
        "  plt.title('V')\n",
        "  plt.show()\n",
        "  None"
      ],
      "metadata": {
        "id": "dbdDe3sJAKiU"
      },
      "execution_count": null,
      "outputs": []
    },
    {
      "cell_type": "markdown",
      "source": [
        "## Defining the mollifier"
      ],
      "metadata": {
        "id": "Hy7uuxz8yV0Q"
      }
    },
    {
      "cell_type": "markdown",
      "source": [
        "We use the symbolic library, sympy, to define the mollifier. This allows us to take a derivative symbolically instead of manually. This allows easier change of the mollifier in the future. The lambdify method is used so that the mollifier can be evaluated numerically."
      ],
      "metadata": {
        "id": "MdGUTdW97JVZ"
      }
    },
    {
      "cell_type": "code",
      "source": [
        "## symbolic functions via sympy\n",
        "x_sym, xi_sym, epsilon_sym = sympy.symbols('x x_i epsilon')\n",
        "mollifier_sym_one = sympy.exp(- x_sym**2 / (2*epsilon_sym**2) ) / sympy.sqrt(2*sympy.pi*epsilon_sym**2)\n",
        "mollifier_sym = mollifier_sym_one.subs(x_sym, x_sym - xi_sym)\n",
        "display(mollifier_sym)"
      ],
      "metadata": {
        "id": "qwOY6MKSq4sl",
        "colab": {
          "base_uri": "https://localhost:8080/",
          "height": 71
        },
        "outputId": "2d4ebf44-9178-48fd-9438-2719946dbd2b"
      },
      "execution_count": null,
      "outputs": [
        {
          "output_type": "display_data",
          "data": {
            "text/plain": [
              "sqrt(2)*exp(-(x - x_i)**2/(2*epsilon**2))/(2*sqrt(pi)*sqrt(epsilon**2))"
            ],
            "text/latex": "$\\displaystyle \\frac{\\sqrt{2} e^{- \\frac{\\left(x - x_{i}\\right)^{2}}{2 \\epsilon^{2}}}}{2 \\sqrt{\\pi} \\sqrt{\\epsilon^{2}}}$"
          },
          "metadata": {}
        }
      ]
    },
    {
      "cell_type": "code",
      "source": [
        "## convert to use with numpy arrays\n",
        "mollifier_np = sympy.lambdify((x_sym, xi_sym, epsilon_sym), mollifier_sym, modules=\"numpy\")\n",
        "## derivative of mollifier\n",
        "derv_moll_sym_one = sympy.diff(mollifier_sym_one, x_sym)\n",
        "derv_moll_sym = derv_moll_sym_one.subs(x_sym, x_sym - xi_sym)\n",
        "derv_moll_np = sympy.lambdify((x_sym, xi_sym, epsilon_sym), derv_moll_sym, modules=\"numpy\")\n",
        "display(derv_moll_sym)"
      ],
      "metadata": {
        "id": "Z3ChhGA6cDeW",
        "colab": {
          "base_uri": "https://localhost:8080/",
          "height": 71
        },
        "outputId": "91057387-7634-4171-d3cc-ef6d788f2f34"
      },
      "execution_count": null,
      "outputs": [
        {
          "output_type": "display_data",
          "data": {
            "text/plain": [
              "-sqrt(2)*(x - x_i)*exp(-(x - x_i)**2/(2*epsilon**2))/(2*sqrt(pi)*epsilon**2*sqrt(epsilon**2))"
            ],
            "text/latex": "$\\displaystyle - \\frac{\\sqrt{2} \\left(x - x_{i}\\right) e^{- \\frac{\\left(x - x_{i}\\right)^{2}}{2 \\epsilon^{2}}}}{2 \\sqrt{\\pi} \\epsilon^{2} \\sqrt{\\epsilon^{2}}}$"
          },
          "metadata": {}
        }
      ]
    },
    {
      "cell_type": "markdown",
      "source": [
        "It can be shown that the convolution of two Gaussians is Gaussian via Fourier transform. To reduce computational cost, we use this fact to save us from computing a needless convolution.  "
      ],
      "metadata": {
        "id": "jv9LoXff7lXY"
      }
    },
    {
      "cell_type": "code",
      "source": [
        "## phi_e  = zeta_e * zeta_e, proof follows from fourier transform\n",
        "phi_sym = sympy.exp(- x_sym**2 / (4*epsilon_sym**2) ) / (sympy.sqrt(4*sympy.pi*epsilon_sym**2))**d\n",
        "phi_np = sympy.lambdify((x_sym, epsilon_sym), phi_sym, modules = \"numpy\")\n",
        "def phi_e(x, epsilon = epsilon):\n",
        "  return phi_np(x, epsilon)\n",
        "der_phi_sym = sympy.diff(phi_sym, x_sym)\n",
        "der_phi_np = sympy.lambdify((x_sym, epsilon_sym), der_phi_sym, modules=\"numpy\")\n",
        "def der_phi_e(x, epsilon = epsilon):\n",
        "  return der_phi_np(x, epsilon)"
      ],
      "metadata": {
        "id": "LTytX14OMK46"
      },
      "execution_count": null,
      "outputs": []
    },
    {
      "cell_type": "markdown",
      "source": [
        "To compute the convolution, we integrate using the simpson rule in scipy. Though we can compute on $\\mathbb{R^d}$, we can save some computation cost by using Chebyshev's inequality or using the information of the mollifier. When the mollifier is a Gaussian, then 99.7% of the data lies within 3 standard deviations from the mean. If a different mollifier is used, then 3 could be as big as 10 by Chebyshev inequality (https://en.wikipedia.org/wiki/Chebyshev%27s_inequality#Probabilistic_statement)."
      ],
      "metadata": {
        "id": "fH19nKXM8npA"
      }
    },
    {
      "cell_type": "code",
      "source": [
        "x_span = np.linspace(-1 - 3*epsilon, 1 + 3*epsilon, 200+1) ## 3 standard deviations for Gaussian"
      ],
      "metadata": {
        "id": "tKs0wkPxVj_c"
      },
      "execution_count": null,
      "outputs": []
    },
    {
      "cell_type": "markdown",
      "source": [
        "We use the reshape method to ensure that the region of integration is of the correct shape when defining the ODE. See a later section for more details."
      ],
      "metadata": {
        "id": "mLYsudP2_C0B"
      }
    },
    {
      "cell_type": "code",
      "source": [
        "## reshape arrays to avoid loops\n",
        "m_1d = np.atleast_2d(m).reshape(-1,1)\n",
        "z = x_span.copy()\n",
        "R_3d = np.atleast_2d(z).reshape(-1,1,1,1)\n",
        "R_2d = np.atleast_2d(z).reshape(-1,1,1)\n",
        "R_1d = np.atleast_2d(z).reshape(-1,1)"
      ],
      "metadata": {
        "id": "XYrNDnCIXfP_"
      },
      "execution_count": null,
      "outputs": []
    },
    {
      "cell_type": "markdown",
      "source": [
        "## Defining the ODE"
      ],
      "metadata": {
        "id": "JYd_TUQ97EbK"
      }
    },
    {
      "cell_type": "markdown",
      "source": [
        "After mollifying the gradient flow, the regularized PDE is\n",
        "\\begin{align*}\n",
        "    \\partial _t \\mu = \\nabla \\cdot \\left (   \\mu \\left (\\nabla \\zeta_\\epsilon \\ast \\left (\\frac{\\zeta_\\epsilon \\ast \\mu}{a}\\right ) \\right ) + \\mu (\\nabla \\zeta _\\epsilon \\ast V) + \\mu (\\nabla \\zeta _\\epsilon \\ast \\zeta _\\epsilon \\ast W \\ast \\mu) + \\mu \\nabla V_k   \\right ).\n",
        "\\end{align*}\n",
        "Given that the gradient flow of $\\mathcal{F}_\\epsilon$ solves the above PDE in the weak sense, we can discretize the problem by letting\n",
        "\\begin{align*}\n",
        "    \\mu (t) = \\sum _{i = 1} ^N \\delta _{X^i (t) } m^i, \\quad\n",
        "    \\mu_0 = \\sum _{i = 1} ^N \\delta _{X^i _0 } m^i, \\quad\n",
        "    \\sum _{i = 1} ^N m^i = 1,\n",
        "\\end{align*}\n",
        "where $\\{ X^i(t) \\} _{i = 1} ^N$ are the location of the particles. We then obtain a system of ODEs for the particle,\n",
        "\\begin{align*}\n",
        "    \\dot{X}^i (t) = - \\sum _{j = 1} ^ N f(X^i, X^j) m^j - \\nabla \\zeta _\\epsilon \\ast V(X^i) - \\nabla V_k(X^i) - \\sum _{j = 1} ^ N m^j \\nabla \\zeta_\\epsilon \\ast \\zeta_\\epsilon \\ast W(X^i - X^j)\n",
        "\\end{align*}\n",
        "with $X^i (0) = X^i_0$\n",
        "where\n",
        "\\begin{align*}\n",
        "    f(X^i, X^j) = \\int _{R^d} \\frac{\\nabla \\zeta _\\epsilon (X^i - z) \\zeta _\\epsilon (X^j - z)}{a(z)}\\ dz .\n",
        "\\end{align*}"
      ],
      "metadata": {
        "id": "R2xVzHJw6h4f"
      }
    },
    {
      "cell_type": "code",
      "source": [
        "def interaction_term(Xi, m = m_1d, z= R_3d, y = R_2d, agg_coef = agg_coef):\n",
        "  \"\"\"Aggregation/Interaction term in pde.\n",
        "\n",
        "  Parameters\n",
        "  ----------\n",
        "  Xi: list\n",
        "    Particle locations\n",
        "  m: list\n",
        "    weight/mass of particles. Should be 1-dimensional.\n",
        "  z: list\n",
        "    Region in 3-dimensional list.\n",
        "  y: list\n",
        "    Region in 2-dimensional list.\n",
        "  agg_coef: float\n",
        "    Coefficient of aggregation term. This determines the strength of the\n",
        "    aggregation.\n",
        "\n",
        "  Returns\n",
        "  -------\n",
        "  list\n",
        "    list of floats\n",
        "\n",
        "  \"\"\"\n",
        "  if mollifier_type == 'Gaussian':\n",
        "    g = scipy.integrate.simpson( der_phi_e(Xi - y) * W(y-Xi.T), x = x_span,axis = 0)\n",
        "  else:\n",
        "    g = scipy.integrate.simpson(scipy.integrate.simpson(derv_moll_np(Xi, z, epsilon)\n",
        "          * mollifier_np(z,y, epsilon) *W(y-Xi.T), x=x_span, axis = 0),x=x_span, axis = 0)\n",
        "  return - np.sum(m*g, axis = 0)*agg_coef"
      ],
      "metadata": {
        "id": "EhMftKyBXcgm"
      },
      "execution_count": null,
      "outputs": []
    },
    {
      "cell_type": "code",
      "source": [
        "def drift_term(Xi, z = R_1d):\n",
        "  \"\"\"Drift/transport term in pde.\n",
        "\n",
        "  Parameters\n",
        "  ----------\n",
        "  Xi: list\n",
        "    Particle locations\n",
        "  z: list\n",
        "    Region in 1-dimensional list.\n",
        "\n",
        "  Returns\n",
        "  -------\n",
        "  list\n",
        "    list of floats\n",
        "\n",
        "  \"\"\"\n",
        "  return scipy.integrate.simpson(derv_moll_np(Xi, z, epsilon) * V(z), x=x_span, axis = 0)"
      ],
      "metadata": {
        "id": "LbdxLnfNj-Pe"
      },
      "execution_count": null,
      "outputs": []
    },
    {
      "cell_type": "code",
      "source": [
        "## diffusion\n",
        "def f_term(x,y, m = m_1d, z = R_2d, dc = diff_coef):\n",
        "  \"\"\"Diffusion term in pde.\n",
        "\n",
        "  Parameters\n",
        "  ----------\n",
        "  Xi: list\n",
        "    Particle locations\n",
        "  m: list\n",
        "    weight/mass of particles. Should be 1-dimensional.\n",
        "  z: list\n",
        "    Region in 2-dimensional list.\n",
        "  diff_coef: float\n",
        "    Coefficient of diffusion term. This determines the strength of the\n",
        "    diffusion.\n",
        "\n",
        "  Returns\n",
        "  -------\n",
        "  list\n",
        "    list of floats\n",
        "\n",
        "  \"\"\"\n",
        "  if distribution == 'uniform' and mollifier_type == 'Gaussian':\n",
        "    f_m = der_phi_e(x - y) / weight(1)\n",
        "  else:\n",
        "    f_m = scipy.integrate.simpson(derv_moll_np(x, z, epsilon)*mollifier_np(y,z, epsilon) / weight(z) ,\n",
        "                                  x=x_span ,axis = 0)\n",
        "  return dc*np.sum(m*f_m, axis = 0)"
      ],
      "metadata": {
        "id": "Vr3oWSs440Zh"
      },
      "execution_count": null,
      "outputs": []
    },
    {
      "cell_type": "code",
      "source": [
        "# # ODE\n",
        "def particles(t,Xi):\n",
        "  \"\"\"ODE system.\n",
        "\n",
        "  Parameters\n",
        "  ----------\n",
        "  t: dummy variable used for solve_ivp\n",
        "  Xi: list\n",
        "    Particle locations\n",
        "\n",
        "  Returns\n",
        "  -------\n",
        "  list\n",
        "    list of floats\n",
        "\n",
        "  \"\"\"\n",
        "  Xi = np.atleast_2d(Xi)\n",
        "  X_dot = -(DVk_where(Xi, k))\n",
        "  if add_diffusion_term:\n",
        "    X_dot = X_dot - (f_term(Xi, Xi.T))\n",
        "  if add_drift_term:\n",
        "    X_dot = X_dot - (drift_term(Xi))\n",
        "  if add_interaction_term:\n",
        "    X_dot = X_dot - (interaction_term(Xi))\n",
        "  return X_dot.ravel()"
      ],
      "metadata": {
        "id": "SLNCE4_d9Fwy"
      },
      "execution_count": null,
      "outputs": []
    },
    {
      "cell_type": "markdown",
      "source": [
        "## ODE Solver, graphs"
      ],
      "metadata": {
        "id": "88KLIQweLejY"
      }
    },
    {
      "cell_type": "code",
      "source": [
        "## ODE solver\n",
        "tic = time.perf_counter()\n",
        "sol = scipy.integrate.solve_ivp(particles, [start_time, end_time], y0 = X_0,\n",
        "                                method = 'BDF', max_step = max_step)\n",
        "toc = time.perf_counter()\n",
        "print((\"Elapsed time: %.1f [sec]\" % ((toc-tic))))\n",
        "print((\"Elapsed time: %.1f [min]\" % ((toc-tic)/60)))"
      ],
      "metadata": {
        "id": "APB3Zw9LxHPI",
        "colab": {
          "base_uri": "https://localhost:8080/"
        },
        "outputId": "ace1a3d4-62b0-4551-89b6-b52893cc3aab"
      },
      "execution_count": null,
      "outputs": [
        {
          "output_type": "stream",
          "name": "stdout",
          "text": [
            "Elapsed time: 0.6 [sec]\n",
            "Elapsed time: 0.0 [min]\n"
          ]
        }
      ]
    },
    {
      "cell_type": "code",
      "source": [
        "print(sol.y.shape)\n",
        "print(sol.t.shape)"
      ],
      "metadata": {
        "id": "QxEsA2jPwkGF",
        "colab": {
          "base_uri": "https://localhost:8080/"
        },
        "outputId": "2609968e-f00b-4f7f-8092-ac06c8a30884"
      },
      "execution_count": null,
      "outputs": [
        {
          "output_type": "stream",
          "name": "stdout",
          "text": [
            "(100, 105)\n",
            "(105,)\n"
          ]
        }
      ]
    },
    {
      "cell_type": "code",
      "source": [
        "## plot particle/robot paths\n",
        "for i in np.linspace(0, sol.y.shape[0]-1, 20):\n",
        "  i = int(i)\n",
        "  plt.plot(sol.y[i], sol.t,'-b', label = f'particle {i}')\n",
        "  plt.plot(sol.y[i, 0], sol.t[0], 'og')\n",
        "  plt.plot(sol.y[i, -1], sol.t[-1], 'or')\n",
        "\n",
        "\n",
        "plt.ylabel('time')\n",
        "plt.xlabel('location')\n",
        "# plt.title(f'{distribution} target, k = {k}')\n",
        "#plt.legend()\n",
        "plt.show()"
      ],
      "metadata": {
        "id": "hpCncbpv2oJd",
        "colab": {
          "base_uri": "https://localhost:8080/",
          "height": 449
        },
        "outputId": "93d47334-d858-4f0d-9d2c-0d9d340a9cf7"
      },
      "execution_count": null,
      "outputs": [
        {
          "output_type": "display_data",
          "data": {
            "text/plain": [
              "<Figure size 640x480 with 1 Axes>"
            ],
            "image/png": "[encoded data removed]"
          },
          "metadata": {}
        }
      ]
    },
    {
      "cell_type": "code",
      "source": [
        "## plot density at different times\n",
        "eps_plt = 4/N**0.93 ### needed for plotting\n",
        "x_span_plt = np.linspace(-1.2,1.2, 200)\n",
        "for i in [0, sol.y.shape[1] // 20, sol.y.shape[1] // 10 ,sol.y.shape[1]-1]:\n",
        "  i = int(i)\n",
        "  rho = np.sum(m.reshape(1,-1)*mollifier_np(sol.y[:,i].reshape(1,-1),\n",
        "                                             x_span_plt.reshape(-1,1),eps_plt), axis = 1)\n",
        "  plt.plot(x_span_plt, rho,'-', label = f't={sol.t[i]:.3f}')\n",
        "\n",
        "\n",
        "if not add_drift_term and not add_interaction_term:\n",
        "  plt.plot(omega, target(omega), '--', label = 'target')\n",
        "\n",
        "plt.ylabel('density')\n",
        "plt.xlabel('x')\n",
        "# plt.xlim(-1.2, 1.2)\n",
        "# plt.ylim((0,1))\n",
        "# plt.title(f'{distribution} target, N = {N}, k = {k}')\n",
        "# plt.title(f'{distribution} target, N = {N}, k = {k}, diff coef = {diff_coef}')\n",
        "plt.legend()\n",
        "plt.show()"
      ],
      "metadata": {
        "id": "my3K4EBIxfLk",
        "colab": {
          "base_uri": "https://localhost:8080/",
          "height": 449
        },
        "outputId": "2f96e8b2-e291-43f4-d6e8-d79c62805cf3"
      },
      "execution_count": null,
      "outputs": [
        {
          "output_type": "display_data",
          "data": {
            "text/plain": [
              "<Figure size 640x480 with 1 Axes>"
            ],
            "image/png": "[encoded data removed]"
          },
          "metadata": {}
        }
      ]
    },
    {
      "cell_type": "markdown",
      "source": [
        "# Computational Complexity"
      ],
      "metadata": {
        "id": "aFuO7J3PFJBt"
      }
    },
    {
      "cell_type": "markdown",
      "source": [
        "## Velocity Law (ODE)"
      ],
      "metadata": {
        "id": "fGtwITf2DLmt"
      }
    },
    {
      "cell_type": "markdown",
      "source": [
        "We plot the computation complexity (in time) of the ODE in terms of $N$. Notice that as $N$ is changing then so is $m$ (the mass distribution of the particles) and so $m$ is included as a keyword argument in the functions below."
      ],
      "metadata": {
        "id": "76gnOS8HAmDI"
      }
    },
    {
      "cell_type": "code",
      "source": [
        "def interaction_term(Xi, m = m_1d, z= R_3d, y = R_2d, s = -1, agg_coef = agg_coef , epsilon = epsilon):\n",
        "  if mollifier_type == 'Gaussian':\n",
        "    g = scipy.integrate.simpson( der_phi_e(Xi - y, epsilon = epsilon) * W(y-Xi.T), x = x_span,axis = 0)\n",
        "  else:\n",
        "    g = scipy.integrate.simpson(scipy.integrate.simpson(derv_moll_np(Xi, z, epsilon)* mollifier_np(z,y, epsilon)\n",
        "                   *W(y-Xi.T), x=x_span, axis = 0),x=x_span, axis = 0)\n",
        "  return s*np.sum(m*g, axis = 0)*agg_coef"
      ],
      "metadata": {
        "id": "WBOg4Jb7C7NT"
      },
      "execution_count": null,
      "outputs": []
    },
    {
      "cell_type": "code",
      "source": [
        "def drift_term(Xi, z = R_1d, epsilon = epsilon):\n",
        "  return scipy.integrate.simpson(derv_moll_np(Xi, z, epsilon) * V(z), x=x_span, axis = 0)"
      ],
      "metadata": {
        "id": "r-Chvr-QC7Nl"
      },
      "execution_count": null,
      "outputs": []
    },
    {
      "cell_type": "code",
      "source": [
        "## diffusion\n",
        "def f_term(x,y, m = m_1d, z = R_2d, dc = diff_coef, epsilon = epsilon):\n",
        "  if distribution == 'uniform' and mollifier_type == 'Gaussian':\n",
        "    f_m = der_phi_e(x - y, epsilon = epsilon) / weight(1)\n",
        "  else:\n",
        "    f_m = scipy.integrate.simpson(derv_moll_np(x, z, epsilon)*mollifier_np(y,z, epsilon) / weight(z) ,\n",
        "                                  x=x_span ,axis = 0)\n",
        "  return dc*np.sum(m*f_m, axis = 0)"
      ],
      "metadata": {
        "id": "dj-2CHONC7Nl"
      },
      "execution_count": null,
      "outputs": []
    },
    {
      "cell_type": "code",
      "source": [
        "# # ODE\n",
        "def velocity_particles(t,Xi, m, epsilon = epsilon):\n",
        "  Xi = np.atleast_2d(Xi)\n",
        "  X_dot = -(DVk_where(Xi, k))\n",
        "  if add_diffusion_term:\n",
        "    X_dot = X_dot - (f_term(Xi, Xi.T, m = m, epsilon = epsilon))\n",
        "  if add_drift_term:\n",
        "    X_dot = X_dot - (drift_term(Xi, epsilon = epsilon))\n",
        "  if add_interaction_term:\n",
        "    X_dot = X_dot - (interaction_term(Xi, m = m, epsilon = epsilon))\n",
        "  return X_dot.ravel()  #X_dot.flatten()"
      ],
      "metadata": {
        "id": "XjViKf8uC7Nl"
      },
      "execution_count": null,
      "outputs": []
    },
    {
      "cell_type": "code",
      "source": [
        "N_array = 10*2**np.arange(8)  ## array([  10,   20,   40,   80,  160,  320,  640, 1280])\n",
        "# N_array = 5*10*np.arange(1,21,3)\n",
        "v_times = [0]*len(N_array)\n",
        "for j,N in enumerate(N_array):\n",
        "  epsilon = 4/N**0.99\n",
        "  omega = np.linspace(-1,1, N+1) # N+1 elements to give N intervals\n",
        "  X_0 = (omega[1:] + omega[:-1]) / 2\n",
        "  t_0 = 0\n",
        "  volume = omega[-1] - omega[0]\n",
        "  h = volume / N\n",
        "  rho_0 = psi(X_0) ## target at t = 0\n",
        "  m = h*rho_0\n",
        "  m_1d = np.atleast_2d(m).reshape(-1,1)\n",
        "  print(f'Started: N = {N} ({j+1}/{len(N_array)})')\n",
        "  tic = time.perf_counter()\n",
        "  velocity_particles(t_0, X_0, m_1d)\n",
        "  toc = time.perf_counter()\n",
        "  v_times[j] = toc - tic\n",
        "  print(f'Ended: N = {N} ({j+1}/{len(N_array)}) with elapsed time {toc - tic:.3f} [sec]')"
      ],
      "metadata": {
        "id": "5Nvoz6rEFOKi",
        "colab": {
          "base_uri": "https://localhost:8080/"
        },
        "outputId": "8fc78644-de9c-4cc0-c83c-06159e41af6d"
      },
      "execution_count": null,
      "outputs": [
        {
          "output_type": "stream",
          "name": "stdout",
          "text": [
            "Started: N = 10 (1/8)\n",
            "Ended: N = 10 (1/8) with elapsed time 0.001 [sec]\n",
            "Started: N = 20 (2/8)\n",
            "Ended: N = 20 (2/8) with elapsed time 0.001 [sec]\n",
            "Started: N = 40 (3/8)\n",
            "Ended: N = 40 (3/8) with elapsed time 0.002 [sec]\n",
            "Started: N = 80 (4/8)\n",
            "Ended: N = 80 (4/8) with elapsed time 0.002 [sec]\n",
            "Started: N = 160 (5/8)\n",
            "Ended: N = 160 (5/8) with elapsed time 0.004 [sec]\n",
            "Started: N = 320 (6/8)\n",
            "Ended: N = 320 (6/8) with elapsed time 0.011 [sec]\n",
            "Started: N = 640 (7/8)\n",
            "Ended: N = 640 (7/8) with elapsed time 0.020 [sec]\n",
            "Started: N = 1280 (8/8)\n",
            "Ended: N = 1280 (8/8) with elapsed time 0.087 [sec]\n"
          ]
        }
      ]
    },
    {
      "cell_type": "code",
      "source": [
        "plt.loglog(N_array, v_times, '.-', label = 'ODE')\n",
        "plt.loglog(N_array, 5*1e-6*N_array**2, '--', label = '$O(N^2)$')\n",
        "# plt.loglog(N_array, 4*1e-5*N_array**1, '--', label = '$O(N^1)$')\n",
        "plt.xlabel(\"Number of Particles\")\n",
        "plt.ylabel(\"ODE Calculation Time\")\n",
        "plt.legend()\n",
        "plt.show()\n",
        "None"
      ],
      "metadata": {
        "id": "4emFqe05GXeK",
        "colab": {
          "base_uri": "https://localhost:8080/",
          "height": 454
        },
        "outputId": "b5ffaaf9-71a6-4eb5-e21a-a0ce55fdca65"
      },
      "execution_count": null,
      "outputs": [
        {
          "output_type": "display_data",
          "data": {
            "text/plain": [
              "<Figure size 640x480 with 1 Axes>"
            ],
            "image/png": "[encoded data removed]"
          },
          "metadata": {}
        }
      ]
    },
    {
      "cell_type": "markdown",
      "source": [
        "Note that $\\log(Cx^p) = p \\log(x) + \\log(C)$. So in the loglog plot, if you need to move the line up or down, then you can adjust the value of $C$ accordingly. If you need to change the slope of the line, then you adjust $p$.  "
      ],
      "metadata": {
        "id": "UgLH2aQoBTWa"
      }
    },
    {
      "cell_type": "markdown",
      "source": [
        "## Simulation"
      ],
      "metadata": {
        "id": "Zuu9aAguDQNJ"
      }
    },
    {
      "cell_type": "markdown",
      "source": [
        "We can move on to the computational complexity of the simulation. This should only be an extra factor of $N$ from the complexity of the ODE. For that reason, I would recommend only running the ODE complexity cells and not the simluation complexity cells."
      ],
      "metadata": {
        "id": "JUnvuAPqBMxs"
      }
    },
    {
      "cell_type": "code",
      "source": [
        "# # ODE\n",
        "def velocity_particles(t,Xi, m):\n",
        "  Xi = np.atleast_2d(Xi)\n",
        "  # diffusion = f_term(Xi, Xi.T)\n",
        "  # X_dot = -(diffusion + DVk_where(Xi, k)  )\n",
        "  X_dot = -(DVk_where(Xi, k))\n",
        "  if add_diffusion_term:\n",
        "    X_dot = X_dot - (f_term(Xi, Xi.T, m))\n",
        "  if add_drift_term:\n",
        "    X_dot = X_dot - (drift_term(Xi))\n",
        "  if add_interaction_term:\n",
        "    X_dot = X_dot - (interaction_term(Xi, m))\n",
        "  return X_dot.ravel()  #X_dot.flatten()"
      ],
      "metadata": {
        "id": "vyUdDAv0DTCt"
      },
      "execution_count": null,
      "outputs": []
    },
    {
      "cell_type": "code",
      "source": [
        "## array([ 10,  14,  20,  28,  40,  56,  80, 113])\n",
        "N_array = (10*2**np.arange(0, 4.0, 0.5)).astype(int)\n",
        "sim_times = [0]*len(N_array)\n",
        "for j,N in enumerate(N_array):\n",
        "  # epsilon = 4/N**0.99\n",
        "  omega = np.linspace(-1,1, N+1) # N+1 elements to give N intervals\n",
        "  X_0 = (omega[1:] + omega[:-1]) / 2\n",
        "  # t_0 = 0\n",
        "  volume = omega[-1] - omega[0]\n",
        "  h = volume / N\n",
        "  rho_0 = psi(X_0) ## target at t = 0\n",
        "  m = h*rho_0\n",
        "  m_1d = np.atleast_2d(m).reshape(-1,1)\n",
        "  # velocity_particles(t_0, X_0, m_1d)\n",
        "  start_time, end_time = 0 , 0.5\n",
        "  t_span = np.linspace(start_time, end_time, 50)\n",
        "  print(f'Started: N = {N} ({j+1}/{len(N_array)})')\n",
        "  def wrapper(t,Xi):\n",
        "    return velocity_particles(t,Xi, m = m_1d)\n",
        "  tic = time.perf_counter()\n",
        "  sol = scipy.integrate.solve_ivp(wrapper, [start_time, end_time], y0 = X_0,\n",
        "                                  method = 'BDF')\n",
        "  toc = time.perf_counter()\n",
        "  sim_times[j] = toc - tic\n",
        "  print(f'Ended: N = {N} ({j+1}/{len(N_array)}) with elapsed time {toc - tic:.3f} [sec]')"
      ],
      "metadata": {
        "id": "abIpGtsoDTCu"
      },
      "execution_count": null,
      "outputs": []
    },
    {
      "cell_type": "code",
      "source": [
        "plt.loglog(N_array, sim_times, '.-', label = 'Simulation')\n",
        "# plt.loglog(N_array, 5*1e-3*N_array**2, '--', label = '$O(N^2)$')\n",
        "plt.loglog(N_array, 1*1e-4*N_array**3, '--', label = '$O(N^3)$')\n",
        "plt.xlabel(\"Number of Particles\")\n",
        "plt.ylabel(\"Simulation Calculation Time\")\n",
        "plt.legend()\n",
        "plt.show()\n",
        "None"
      ],
      "metadata": {
        "id": "9Zm8f1feDTCu"
      },
      "execution_count": null,
      "outputs": []
    },
    {
      "cell_type": "markdown",
      "source": [
        "# $L^1$ Error"
      ],
      "metadata": {
        "id": "N-znmEAbQMsN"
      }
    },
    {
      "cell_type": "markdown",
      "source": [
        "To quantify the accuracy, we compute the $L^1$ errors relative to $N_{\\text{max}}$."
      ],
      "metadata": {
        "id": "NUIolze5ByJi"
      }
    },
    {
      "cell_type": "code",
      "source": [
        "omega_fixed = np.linspace(-1,1,200)"
      ],
      "metadata": {
        "id": "QoUCd32WqoVC"
      },
      "execution_count": null,
      "outputs": []
    },
    {
      "cell_type": "code",
      "source": [
        "def L1_error(Xi, rho_max = [], epsilon = epsilon):\n",
        "  rho_approx = np.sum(m.reshape(1,-1)*mollifier_np(Xi.reshape(1,-1), omega_fixed.reshape(-1,1),\n",
        "        epsilon), axis = 1)\n",
        "  if len(rho_max): ## hard code for large N\n",
        "    rho_true = rho_max\n",
        "  return scipy.integrate.simpson(np.abs(rho_approx - rho_true), x = omega_fixed, axis = 0)"
      ],
      "metadata": {
        "id": "74_ZyFhzQOZD"
      },
      "execution_count": null,
      "outputs": []
    },
    {
      "cell_type": "code",
      "source": [
        "def interaction_term(Xi, m = m_1d, z= R_3d, y = R_2d, s = -1, agg_coef = agg_coef , epsilon = epsilon):\n",
        "  if mollifier_type == 'Gaussian':\n",
        "    g = scipy.integrate.simpson( der_phi_e(Xi - y, epsilon = epsilon) * W(y-Xi.T), x = x_span,axis = 0)\n",
        "  else:\n",
        "    g = scipy.integrate.simpson(scipy.integrate.simpson(derv_moll_np(Xi, z, epsilon)* mollifier_np(z,y, epsilon)\n",
        "                   *W(y-Xi.T), x=x_span, axis = 0),x=x_span, axis = 0)\n",
        "  return s*np.sum(m*g, axis = 0)*agg_coef"
      ],
      "metadata": {
        "id": "XJml6UM21xUb"
      },
      "execution_count": null,
      "outputs": []
    },
    {
      "cell_type": "code",
      "source": [
        "def drift_term(Xi, z = R_1d, epsilon = epsilon):\n",
        "  return scipy.integrate.simpson(derv_moll_np(Xi, z, epsilon) * V(z), x=x_span, axis = 0)"
      ],
      "metadata": {
        "id": "tDWsIy1V1v4K"
      },
      "execution_count": null,
      "outputs": []
    },
    {
      "cell_type": "code",
      "source": [
        "## diffusion\n",
        "def f_term(x,y, m = m_1d, z = R_2d, dc = diff_coef, epsilon = epsilon):\n",
        "  if distribution == 'uniform' and mollifier_type == 'Gaussian':\n",
        "    f_m = der_phi_e(x - y, epsilon = epsilon) / weight(1)\n",
        "  else:\n",
        "    f_m = scipy.integrate.simpson(derv_moll_np(x, z, epsilon)*mollifier_np(y,z, epsilon) / weight(z) ,\n",
        "                                  x=x_span ,axis = 0)\n",
        "  return dc*np.sum(m*f_m, axis = 0)"
      ],
      "metadata": {
        "id": "umrOl5L61v4K"
      },
      "execution_count": null,
      "outputs": []
    },
    {
      "cell_type": "code",
      "source": [
        "# # ODE\n",
        "def velocity_particles(t,Xi, m, epsilon = epsilon):\n",
        "  Xi = np.atleast_2d(Xi)\n",
        "  X_dot = -(DVk_where(Xi, k))\n",
        "  if add_diffusion_term:\n",
        "    X_dot = X_dot - (f_term(Xi, Xi.T, m = m, epsilon = epsilon))\n",
        "  if add_drift_term:\n",
        "    X_dot = X_dot - (drift_term(Xi, epsilon = epsilon))\n",
        "  if add_interaction_term:\n",
        "    X_dot = X_dot - (interaction_term(Xi, m = m, epsilon = epsilon))\n",
        "  return X_dot.ravel()  #X_dot.flatten()"
      ],
      "metadata": {
        "id": "Rqtz-72pqHQR"
      },
      "execution_count": null,
      "outputs": []
    },
    {
      "cell_type": "markdown",
      "source": [
        "We first start by computing $\\rho_{\\text{max}}$. This is the solution we compare the numerical solutions with $N$ particles. Define $N_\\text{max}$ below.\n"
      ],
      "metadata": {
        "id": "hE37U64QDpwD"
      }
    },
    {
      "cell_type": "code",
      "source": [
        "## array([ 10,  14,  20,  28,  40,  56,  80, 113])\n",
        "N_max = 226\n",
        "# sim_times = [0]*len(N_array)\n",
        "# errors = [0]*len(N_array)\n",
        "N = N_max\n",
        "epsilon = 4/N**0.99\n",
        "omega = np.linspace(-1,1, N+1) # N+1 elements to give N intervals\n",
        "X_0 = (omega[1:] + omega[:-1]) / 2\n",
        "# t_0 = 0\n",
        "volume = omega[-1] - omega[0]\n",
        "h = volume / N\n",
        "# rho_0 = vec_psi(X_0) ## target at t = 0\n",
        "rho_0 = psi(X_0) ## target at t = 0\n",
        "m = h*rho_0\n",
        "m_1d = np.atleast_2d(m).reshape(-1,1)\n",
        "# velocity_particles(t_0, X_0, m_1d)\n",
        "start_time, end_time = 0 , 0.1\n",
        "# t_span = np.linspace(start_time, end_time, 50)\n",
        "def wrapper(t,Xi):\n",
        "  return velocity_particles(t,Xi, m = m_1d)\n",
        "tic = time.perf_counter()\n",
        "sol = scipy.integrate.solve_ivp(wrapper, [start_time, end_time], y0 = X_0,\n",
        "                                method = 'BDF', max_step = max_step)\n",
        "# errors[j] = L1_error(sol.y[:,-1])\n",
        "toc = time.perf_counter()\n",
        "rho_max = np.sum(m.reshape(1,-1)*mollifier_np(sol.y[:,-1].reshape(1,-1),\n",
        "                                              omega_fixed.reshape(-1,1), epsilon), axis = 1)\n",
        "# sim_times[j] = toc - tic\n",
        "print(f'Elapsed time {toc - tic:.3f} [sec]')"
      ],
      "metadata": {
        "id": "IaTgeXGL83r7",
        "colab": {
          "base_uri": "https://localhost:8080/"
        },
        "outputId": "a8951e79-3d54-4595-9056-37f01cde5176"
      },
      "execution_count": null,
      "outputs": [
        {
          "output_type": "stream",
          "name": "stdout",
          "text": [
            "Elapsed time 74.468 [sec]\n"
          ]
        }
      ]
    },
    {
      "cell_type": "markdown",
      "source": [
        "Now we compute the $L^1$  errors."
      ],
      "metadata": {
        "id": "0yK1GZKzEz9k"
      }
    },
    {
      "cell_type": "code",
      "source": [
        "## array([ 10,  14,  20,  28,  40,  56,  80, 113])\n",
        "N_array = (10*2**np.arange(0, 4.0, 0.5)).astype(int)\n",
        "# sim_times = [0]*len(N_array)\n",
        "errors = [0]*len(N_array)\n",
        "for j,N in enumerate(N_array):\n",
        "  epsilon = 4/N**0.99\n",
        "  omega = np.linspace(-1,1, N+1) # N+1 elements to give N intervals\n",
        "  X_0 = (omega[1:] + omega[:-1]) / 2\n",
        "  # t_0 = 0\n",
        "  volume = omega[-1] - omega[0]\n",
        "  h = volume / N\n",
        "  # rho_0 = vec_psi(X_0) ## target at t = 0\n",
        "  rho_0 = psi(X_0)\n",
        "  m = h*rho_0\n",
        "  m_1d = np.atleast_2d(m).reshape(-1,1)\n",
        "  # velocity_particles(t_0, X_0, m_1d)\n",
        "  start_time, end_time = 0 , 0.1\n",
        "  # t_span = np.linspace(start_time, end_time, 50)\n",
        "  print(f'Started: N = {N} ({j+1}/{len(N_array)})')\n",
        "  def wrapper(t,Xi):\n",
        "    return velocity_particles(t,Xi, m = m_1d, epsilon = epsilon)\n",
        "  tic = time.perf_counter()\n",
        "  sol = scipy.integrate.solve_ivp(wrapper, [start_time, end_time], y0 = X_0,\n",
        "                                  method = 'BDF', max_step = max_step)\n",
        "  errors[j] = L1_error(sol.y[:,-1], rho_max)\n",
        "  toc = time.perf_counter()\n",
        "  # sim_times[j] = toc - tic\n",
        "  print(f'Ended: N = {N} ({j+1}/{len(N_array)}) with elapsed time {toc - tic:.3f} [sec]')"
      ],
      "metadata": {
        "id": "TX9mggFkpRn2",
        "colab": {
          "base_uri": "https://localhost:8080/"
        },
        "outputId": "c09ac66a-6e77-43fc-ea5c-48d3aeb4cc01"
      },
      "execution_count": null,
      "outputs": [
        {
          "output_type": "stream",
          "name": "stdout",
          "text": [
            "Started: N = 10 (1/8)\n",
            "Ended: N = 10 (1/8) with elapsed time 0.036 [sec]\n",
            "Started: N = 14 (2/8)\n",
            "Ended: N = 14 (2/8) with elapsed time 0.053 [sec]\n",
            "Started: N = 20 (3/8)\n",
            "Ended: N = 20 (3/8) with elapsed time 0.125 [sec]\n",
            "Started: N = 28 (4/8)\n",
            "Ended: N = 28 (4/8) with elapsed time 0.252 [sec]\n",
            "Started: N = 40 (5/8)\n",
            "Ended: N = 40 (5/8) with elapsed time 0.655 [sec]\n",
            "Started: N = 56 (6/8)\n",
            "Ended: N = 56 (6/8) with elapsed time 1.515 [sec]\n",
            "Started: N = 80 (7/8)\n",
            "Ended: N = 80 (7/8) with elapsed time 1.690 [sec]\n",
            "Started: N = 113 (8/8)\n",
            "Ended: N = 113 (8/8) with elapsed time 10.250 [sec]\n"
          ]
        }
      ]
    },
    {
      "cell_type": "code",
      "source": [
        "plt.loglog(N_array, errors, '.-', label = 'Errors')\n",
        "# plt.loglog(N_array, 5*1e-3*N_array**2, '--', label = '$O(N^2)$')\n",
        "# plt.loglog(N_array, 1*1e-4*N_array**3, '--', label = '$O(N^3)$')\n",
        "slope, y_intercept = np.polyfit(np.log10(N_array), np.log10(errors), 1)\n",
        "# y_intercept, slope = np.polynomial.Polynomial.fit(np.log10(N_array), np.log10(errors), 1).convert()\n",
        "plt.loglog(N_array, 10**y_intercept * N_array **slope, label = f'Slope = {slope:.2f}')\n",
        "# plt.loglog(N_array, 2*1e2 * 1 /N_array **3, '--', label = '$O(N^{-3})$')\n",
        "plt.xlabel(\"Number of Particles\")\n",
        "plt.ylabel(\"$L^1$ Error\")\n",
        "plt.legend()\n",
        "plt.show()\n",
        "None"
      ],
      "metadata": {
        "id": "OQG4FFsPm2EG",
        "colab": {
          "base_uri": "https://localhost:8080/",
          "height": 454
        },
        "outputId": "bd2ce28c-2a71-422b-a588-f761b04b1170"
      },
      "execution_count": null,
      "outputs": [
        {
          "output_type": "display_data",
          "data": {
            "text/plain": [
              "<Figure size 640x480 with 1 Axes>"
            ],
            "image/png": "[encoded data removed]"
          },
          "metadata": {}
        }
      ]
    },
    {
      "cell_type": "markdown",
      "source": [
        "# Reducing Computational Cost"
      ],
      "metadata": {
        "id": "SYNKYt8LHm24"
      }
    },
    {
      "cell_type": "markdown",
      "source": [
        "We can simplify the computation of ODE using knowledge of specific mollifier. We do this in the work above but explain it here."
      ],
      "metadata": {
        "id": "CdTx3MdpHV0H"
      }
    },
    {
      "cell_type": "markdown",
      "source": [
        "For $k,N \\in \\mathbb{N} , \\epsilon > 0 $, and $t\\in [0,T]$, consider the evolving empirical measure,\n",
        "    \\begin{align*}\n",
        "     \\mu _{\\epsilon,k}^N (t) = \\sum _{i = 1} ^N \\delta _{X^i _{\\epsilon,k} (t) } m^i, \\quad\n",
        "    m^i \\geq 0, \\quad\n",
        "    \\sum _{i = 1} ^N m^i = 1,\n",
        "    \\end{align*}\n",
        "    where\n",
        "    $X^i _ {\\epsilon , k}$\n",
        "    solves,\n",
        "    \\begin{align*}\n",
        "    \\begin{cases}\n",
        "         \\dot{X}^i _{\\epsilon,k} (t) &= - \\sum _{j = 1} ^ N  m^j\n",
        "         \\int _{R^d} \\nabla \\zeta _\\epsilon (X^i_{\\epsilon,k} - z) \\zeta _\\epsilon (X^j_{\\epsilon,k} - z)\\frac{1}{a(z)}\\ dz\n",
        "         - \\nabla \\zeta _\\epsilon \\ast V(X^i_{\\epsilon,k}) - \\nabla V_k(X^i_{\\epsilon,k}) \\\\\n",
        "         & \\quad -  \\sum _{j = 1} ^ N m^j \\nabla \\zeta_\\epsilon \\ast \\zeta_\\epsilon \\ast W(X^i_{\\epsilon,k} - X^j_{\\epsilon,k}) \\\\\n",
        "         X^i _{\\epsilon,k} (0) &= X^i _{0,\\epsilon}.\n",
        "    \\end{cases}\n",
        "    \\end{align*}"
      ],
      "metadata": {
        "id": "te237hv6HQD7"
      }
    },
    {
      "cell_type": "markdown",
      "source": [
        "Looking at the ODE (velocity law) above, we would expect that the drift is $O(N)$, the diffusion is $O(N^2)$, and the aggregation is $O(N^3)$. However, using properties of a specific mollifier, we can do better. Let us assume that the mollifier $\\zeta _\\epsilon$ is a Gaussian. Using the Fourier transform, one can show that the convolusion of two Gaussians is Gaussian. Namely, $\\varphi _\\epsilon = \\zeta _\\epsilon \\ast \\zeta _\\epsilon$ is Gaussian. In particular, the mean is mean$_1$ + mean$_2$ and the variance is var$_1$ + var$_2$."
      ],
      "metadata": {
        "id": "DzHgS40iHQD-"
      }
    },
    {
      "cell_type": "code",
      "source": [
        "def mollmoll(x, z = R_1d):\n",
        "  # return h_R * np.sum(mollifier_np(x,z, epsilon) * mollifier_np(z, 0, epsilon), axis = 0)\n",
        "  return scipy.integrate.simpson( mollifier_np(x,z, epsilon) * mollifier_np(z, 0, epsilon), x = x_span,axis = 0)"
      ],
      "metadata": {
        "id": "Hada48lPKXCC"
      },
      "execution_count": null,
      "outputs": []
    },
    {
      "cell_type": "markdown",
      "source": [
        "Instead of giving an explicit proof here, we compute the two and compare via a simple plot."
      ],
      "metadata": {
        "id": "o0UjivlnlvwE"
      }
    },
    {
      "cell_type": "code",
      "source": [
        "## shows that phi_e is equivalent to mollmoll (phi_e less computation)\n",
        "## convolving two Gaussians is still a Gaussian\n",
        "X0_2d = np.atleast_2d(X_0)\n",
        "plt.plot(X0_2d.T, mollmoll(X0_2d), 'o-')\n",
        "plt.plot(X0_2d.T, phi_e(X0_2d.ravel()), '.--')\n",
        "None"
      ],
      "metadata": {
        "colab": {
          "base_uri": "https://localhost:8080/",
          "height": 430
        },
        "outputId": "e3d4e14e-0ff2-46ed-a2f2-232373a42cfd",
        "id": "EK1zlSTzKXCE"
      },
      "execution_count": null,
      "outputs": [
        {
          "output_type": "display_data",
          "data": {
            "text/plain": [
              "<Figure size 640x480 with 1 Axes>"
            ],
            "image/png": "[encoded data removed]"
          },
          "metadata": {}
        }
      ]
    },
    {
      "cell_type": "markdown",
      "source": [
        "Thus, we can reduce the aggregation to $O(N^2)$,\n",
        "\\begin{align*}\n",
        "\\dot{X}^i _{\\epsilon,k} (t) &= - \\sum _{j = 1} ^ N  m^j\n",
        "         \\int _{R^d} \\nabla \\zeta _\\epsilon (X^i_{\\epsilon,k} - z) \\zeta _\\epsilon (X^j_{\\epsilon,k} - z)\\frac{1}{a(z)}\\ dz\n",
        "         - \\nabla \\zeta _\\epsilon \\ast V(X^i_{\\epsilon,k}) - \\nabla V_k(X^i_{\\epsilon,k}) \\\\\n",
        "         & \\quad -  \\sum _{j = 1} ^ N m^j \\nabla \\varphi _\\epsilon \\ast W(X^i_{\\epsilon,k} - X^j_{\\epsilon,k}) .\n",
        "\\end{align*}"
      ],
      "metadata": {
        "id": "9M9txJVxHQD_"
      }
    },
    {
      "cell_type": "markdown",
      "source": [
        "If $a(z)$ is a scalar, then we can reduce the diffusion to $O(N)$,\n",
        "\\begin{align*}\n",
        "\\dot{X}^i _{\\epsilon,k} (t) &= - \\sum _{j = 1} ^ N  m^j\n",
        "         \\frac{1}{a} \\nabla \\varphi_\\epsilon ({X}^i _{\\epsilon,k} - {X}^j _{\\epsilon,k})\n",
        "         - \\nabla \\zeta _\\epsilon \\ast V(X^i_{\\epsilon,k}) - \\nabla V_k(X^i_{\\epsilon,k}) \\\\\n",
        "         & \\quad -  \\sum _{j = 1} ^ N m^j \\nabla \\varphi _\\epsilon \\ast W(X^i_{\\epsilon,k} - X^j_{\\epsilon,k}) .\n",
        "\\end{align*}"
      ],
      "metadata": {
        "id": "_sHExW49HQEA"
      }
    },
    {
      "cell_type": "markdown",
      "source": [
        "However, if the aggregation still remains, then the ODE is still $O(N^2)$. If we did have no aggregation ($W = 0$) and had only drift and diffusion (scalar weight), then the ODE would be $O(N)$,\n",
        "\\begin{align*}\n",
        "\\dot{X}^i _{\\epsilon,k} (t) &= - \\sum _{j = 1} ^ N  m^j\n",
        "         \\frac{1}{a} \\nabla \\varphi_\\epsilon ({X}^i _{\\epsilon,k} - {X}^j _{\\epsilon,k})\n",
        "         - \\nabla \\zeta _\\epsilon \\ast V(X^i_{\\epsilon,k}) - \\nabla V_k(X^i_{\\epsilon,k}) .\n",
        "\\end{align*}"
      ],
      "metadata": {
        "id": "CmCBgLEDQTpU"
      }
    },
    {
      "cell_type": "markdown",
      "source": [
        "# Broadcasting Example"
      ],
      "metadata": {
        "id": "x7y59LFPNmGB"
      }
    },
    {
      "cell_type": "markdown",
      "source": [
        "We discuss an example using the interaction energy (with Gaussian mollifier). As the functions (mollifier and W) output shape are the same as the input shape, we will ignore the functions in the discussion below. The broadcasting techinques can be seen in this link.\n",
        "\n",
        "https://numpy.org/doc/stable/user/basics.broadcasting.html"
      ],
      "metadata": {
        "id": "KL3bZmg_XEwO"
      }
    },
    {
      "cell_type": "markdown",
      "source": [
        "Let us start by establishing the initial particles locations."
      ],
      "metadata": {
        "id": "qlPFklNP0bM8"
      }
    },
    {
      "cell_type": "code",
      "source": [
        "## create region, initial particles locations,\n",
        "omega = np.linspace(-1,1, N+1) # N+1 elements to give N intervals\n",
        "volume = omega[-1] - omega[0]\n",
        "h = volume / N\n",
        "X_0 = (omega[1:] + omega[:-1]) / 2"
      ],
      "metadata": {
        "id": "C4xUq0-8TMC3"
      },
      "execution_count": null,
      "outputs": []
    },
    {
      "cell_type": "code",
      "source": [
        "X_0"
      ],
      "metadata": {
        "colab": {
          "base_uri": "https://localhost:8080/"
        },
        "id": "BSLoUarRNo9t",
        "outputId": "1bc51ac5-4830-4695-cda4-c644258c8fa2"
      },
      "execution_count": null,
      "outputs": [
        {
          "output_type": "execute_result",
          "data": {
            "text/plain": [
              "array([-0.99, -0.97, -0.95, -0.93, -0.91, -0.89, -0.87, -0.85, -0.83,\n",
              "       -0.81, -0.79, -0.77, -0.75, -0.73, -0.71, -0.69, -0.67, -0.65,\n",
              "       -0.63, -0.61, -0.59, -0.57, -0.55, -0.53, -0.51, -0.49, -0.47,\n",
              "       -0.45, -0.43, -0.41, -0.39, -0.37, -0.35, -0.33, -0.31, -0.29,\n",
              "       -0.27, -0.25, -0.23, -0.21, -0.19, -0.17, -0.15, -0.13, -0.11,\n",
              "       -0.09, -0.07, -0.05, -0.03, -0.01,  0.01,  0.03,  0.05,  0.07,\n",
              "        0.09,  0.11,  0.13,  0.15,  0.17,  0.19,  0.21,  0.23,  0.25,\n",
              "        0.27,  0.29,  0.31,  0.33,  0.35,  0.37,  0.39,  0.41,  0.43,\n",
              "        0.45,  0.47,  0.49,  0.51,  0.53,  0.55,  0.57,  0.59,  0.61,\n",
              "        0.63,  0.65,  0.67,  0.69,  0.71,  0.73,  0.75,  0.77,  0.79,\n",
              "        0.81,  0.83,  0.85,  0.87,  0.89,  0.91,  0.93,  0.95,  0.97,\n",
              "        0.99])"
            ]
          },
          "metadata": {},
          "execution_count": 86
        }
      ]
    },
    {
      "cell_type": "code",
      "source": [
        "X = np.atleast_2d(X_0)\n",
        "print(X)"
      ],
      "metadata": {
        "colab": {
          "base_uri": "https://localhost:8080/"
        },
        "id": "ehioEWA8NpCk",
        "outputId": "d2cb7dc3-3e4e-4813-a9c5-1782884ab021"
      },
      "execution_count": null,
      "outputs": [
        {
          "output_type": "stream",
          "name": "stdout",
          "text": [
            "[[-0.99 -0.97 -0.95 -0.93 -0.91 -0.89 -0.87 -0.85 -0.83 -0.81 -0.79 -0.77\n",
            "  -0.75 -0.73 -0.71 -0.69 -0.67 -0.65 -0.63 -0.61 -0.59 -0.57 -0.55 -0.53\n",
            "  -0.51 -0.49 -0.47 -0.45 -0.43 -0.41 -0.39 -0.37 -0.35 -0.33 -0.31 -0.29\n",
            "  -0.27 -0.25 -0.23 -0.21 -0.19 -0.17 -0.15 -0.13 -0.11 -0.09 -0.07 -0.05\n",
            "  -0.03 -0.01  0.01  0.03  0.05  0.07  0.09  0.11  0.13  0.15  0.17  0.19\n",
            "   0.21  0.23  0.25  0.27  0.29  0.31  0.33  0.35  0.37  0.39  0.41  0.43\n",
            "   0.45  0.47  0.49  0.51  0.53  0.55  0.57  0.59  0.61  0.63  0.65  0.67\n",
            "   0.69  0.71  0.73  0.75  0.77  0.79  0.81  0.83  0.85  0.87  0.89  0.91\n",
            "   0.93  0.95  0.97  0.99]]\n"
          ]
        }
      ]
    },
    {
      "cell_type": "markdown",
      "source": [
        "We see that $X$ is a row vector with $N$ columns."
      ],
      "metadata": {
        "id": "V1RSPk4h0I3E"
      }
    },
    {
      "cell_type": "code",
      "source": [
        "X.shape  ## (1, N)"
      ],
      "metadata": {
        "colab": {
          "base_uri": "https://localhost:8080/"
        },
        "id": "q5beEQnvNpHQ",
        "outputId": "e0890e07-85c2-4e14-94bc-db29ecb5c092"
      },
      "execution_count": null,
      "outputs": [
        {
          "output_type": "execute_result",
          "data": {
            "text/plain": [
              "(1, 100)"
            ]
          },
          "metadata": {},
          "execution_count": 88
        }
      ]
    },
    {
      "cell_type": "markdown",
      "source": [
        "We create the region in which we integrate over."
      ],
      "metadata": {
        "id": "uaF1_hMY0jbN"
      }
    },
    {
      "cell_type": "code",
      "source": [
        "M = 200 +1\n",
        "x_span = np.linspace(-1 - 3*epsilon, 1 + 3*epsilon, M) ## 3 standard deviations for Gaussian"
      ],
      "metadata": {
        "id": "zeW57995TV7w"
      },
      "execution_count": null,
      "outputs": []
    },
    {
      "cell_type": "code",
      "source": [
        "## reshape arrays to avoid loops\n",
        "m_1d = np.atleast_2d(m).reshape(-1,1)\n",
        "z = x_span.copy()\n",
        "R_3d = np.atleast_2d(z).reshape(-1,1,1,1)\n",
        "R_2d = np.atleast_2d(z).reshape(-1,1,1)\n",
        "R_1d = np.atleast_2d(z).reshape(-1,1)"
      ],
      "metadata": {
        "id": "iZKwUdzKTWGw"
      },
      "execution_count": null,
      "outputs": []
    },
    {
      "cell_type": "code",
      "source": [
        "R_2d.shape  ## (M, 1, 1)"
      ],
      "metadata": {
        "colab": {
          "base_uri": "https://localhost:8080/"
        },
        "id": "KRiT42Q6PCzd",
        "outputId": "9fef7749-34bc-42cd-ca26-bb0ac7a38a20"
      },
      "execution_count": null,
      "outputs": [
        {
          "output_type": "execute_result",
          "data": {
            "text/plain": [
              "(201, 1, 1)"
            ]
          },
          "metadata": {},
          "execution_count": 91
        }
      ]
    },
    {
      "cell_type": "code",
      "source": [
        "R_2d[0:3]"
      ],
      "metadata": {
        "colab": {
          "base_uri": "https://localhost:8080/"
        },
        "id": "gFKKb0wjO6rw",
        "outputId": "90156441-942a-45f1-e8a1-8ee427645037"
      },
      "execution_count": null,
      "outputs": [
        {
          "output_type": "execute_result",
          "data": {
            "text/plain": [
              "array([[[-1.12565543]],\n",
              "\n",
              "       [[-1.11439887]],\n",
              "\n",
              "       [[-1.10314232]]])"
            ]
          },
          "metadata": {},
          "execution_count": 99
        }
      ]
    },
    {
      "cell_type": "markdown",
      "source": [
        "Here we want to take each particle and subtract every point in the region $y^k$ for $k = 1, 2, \\ldots , M$. To do so (without expensive for loops) we must reshape the region in the correct way.\n",
        "\\begin{align*}\n",
        "\\begin{pmatrix}\n",
        "X^1 & X^2 & \\cdots & X^N\n",
        "\\end{pmatrix}\n",
        "-\n",
        "\\begin{pmatrix}\n",
        "y ^1 \\\\\n",
        "y^2 \\\\\n",
        "\\vdots \\\\\n",
        "y^ M\n",
        "\\end{pmatrix}\n",
        "\\end{align*}"
      ],
      "metadata": {
        "id": "Vi8Wr7rB1tTm"
      }
    },
    {
      "cell_type": "markdown",
      "source": [
        "We take the $y$ vector and subtract with every $X^i$. Based on the shape of $y$ (the region) each vector can be thought of as a new slice in a cube.\n",
        "\\begin{align*}\n",
        "\\begin{pmatrix}\n",
        "X^1 - y ^1 \\\\\n",
        "X^1 - y^2 \\\\\n",
        "\\vdots \\\\\n",
        "X^1 - y^ M\n",
        "\\end{pmatrix}\n",
        "\\begin{pmatrix}\n",
        "X^2 - y ^1 \\\\\n",
        "X^2 - y^2 \\\\\n",
        "\\vdots \\\\\n",
        "X^2 - y^ M\n",
        "\\end{pmatrix}\n",
        "⋯\n",
        "\\begin{pmatrix}\n",
        "X^N - y ^1 \\\\\n",
        "X^N - y^2 \\\\\n",
        "\\vdots \\\\\n",
        "X^N - y^ M\n",
        "\\end{pmatrix}\n",
        "\\end{align*}\n"
      ],
      "metadata": {
        "id": "m2TRodC82E7D"
      }
    },
    {
      "cell_type": "code",
      "source": [
        "(X - R_2d).shape  ## (M, 1, N)"
      ],
      "metadata": {
        "colab": {
          "base_uri": "https://localhost:8080/"
        },
        "id": "X6B0jUixOSSo",
        "outputId": "eb47a9f4-d27a-4092-8088-e296e544ea0d"
      },
      "execution_count": null,
      "outputs": [
        {
          "output_type": "execute_result",
          "data": {
            "text/plain": [
              "(201, 1, 100)"
            ]
          },
          "metadata": {},
          "execution_count": 93
        }
      ]
    },
    {
      "cell_type": "markdown",
      "source": [
        "Instead of computing $\\sum _ i \\sum _j X^ i - X^j$, we instead caluclate the equivalent $X - X^ T$ to be efficient."
      ],
      "metadata": {
        "id": "h6pSNbv-Y0rp"
      }
    },
    {
      "cell_type": "markdown",
      "source": [
        "Here we want to take each particle and subtract every point in the region. To do so (without expensive for loops) we must reshape the region in the correct way (the same shape as in the last calculation).\n",
        "\\begin{align*}\n",
        "\\begin{pmatrix}\n",
        "y ^1 \\\\\n",
        "y^2 \\\\\n",
        "\\vdots \\\\\n",
        "y^ M\n",
        "\\end{pmatrix}\n",
        "-\n",
        "\\begin{pmatrix}\n",
        "X^1 \\\\\n",
        "X^2 \\\\\n",
        "\\vdots \\\\\n",
        "X^N\n",
        "\\end{pmatrix}\n",
        "\\end{align*}"
      ],
      "metadata": {
        "id": "-qoFdW8G5UZu"
      }
    },
    {
      "cell_type": "markdown",
      "source": [
        "Based on the shape of $y$ (the region) each vector is simply a new column.\n",
        "\n",
        "\\begin{align*}\n",
        "\\begin{pmatrix}\n",
        " y ^1 - X^1 &  y ^1 - X^2 & \\cdots &  y ^1 - X^N \\\\\n",
        "y ^2 - X^1 &  y ^2 - X^2 & \\cdots &  y ^2 - X^N \\\\\n",
        "\\vdots  &                &         &   \\vdots \\\\\n",
        "y ^M - X^1 &  y ^M - X^2 & \\cdots &  y ^M - X^N\n",
        "\\end{pmatrix}\n",
        "\\end{align*}\n"
      ],
      "metadata": {
        "id": "iOeGVTAz56Jk"
      }
    },
    {
      "cell_type": "code",
      "source": [
        "(R_2d - X.T).shape ## (M, N, 1) or (len(x_span), N, 1)"
      ],
      "metadata": {
        "colab": {
          "base_uri": "https://localhost:8080/"
        },
        "id": "DtZ_8_AyOSeQ",
        "outputId": "113c3ef7-6271-4012-9c91-2b6c114a191f"
      },
      "execution_count": null,
      "outputs": [
        {
          "output_type": "execute_result",
          "data": {
            "text/plain": [
              "(201, 100, 1)"
            ]
          },
          "metadata": {},
          "execution_count": 94
        }
      ]
    },
    {
      "cell_type": "markdown",
      "source": [
        "Each slice of the cube is multiplied by every column in the above matrix.\n",
        "For $i = 1,2,\\ldots , N$\n",
        "\\begin{align*}\n",
        "\\begin{pmatrix}\n",
        "X^i - y ^1 \\\\\n",
        "X^i - y^2 \\\\\n",
        "\\vdots \\\\\n",
        "X^i - y^ M\n",
        "\\end{pmatrix}\n",
        "\\cdot\n",
        "\\begin{pmatrix}\n",
        " y ^1 - X^1 &  y ^1 - X^2 & \\cdots &  y ^1 - X^N \\\\\n",
        "y ^2 - X^1 &  y ^2 - X^2 & \\cdots &  y ^2 - X^N \\\\\n",
        "\\vdots  &                &         &   \\vdots \\\\\n",
        "y ^M - X^1 &  y ^M - X^2 & \\cdots &  y ^M - X^N\n",
        "\\end{pmatrix}\n",
        "\\end{align*}\n",
        "This is where each particle interacts with every other particle."
      ],
      "metadata": {
        "id": "lo61kIJY7Qxk"
      }
    },
    {
      "cell_type": "code",
      "source": [
        "( (X - R_2d) * (R_2d - X.T) ).shape  ## (M, N, N)"
      ],
      "metadata": {
        "colab": {
          "base_uri": "https://localhost:8080/"
        },
        "id": "YOFmYWU9OSjh",
        "outputId": "b194ce73-5942-4594-c18e-159d2a155ba8"
      },
      "execution_count": null,
      "outputs": [
        {
          "output_type": "execute_result",
          "data": {
            "text/plain": [
              "(201, 100, 100)"
            ]
          },
          "metadata": {},
          "execution_count": 95
        }
      ]
    },
    {
      "cell_type": "markdown",
      "source": [
        "We now sum for the first axis (axis = 0) for the integration calculation leaving us with an $(N,N)$ matrix. Note that the first $N$ corresponds with the $j$ index and the second $N$ corresponds with the $i$ index. One may want to denote as $(N_j, N_i)$ to avoid confusion.\n",
        "We multiply by the weight/mass $m$ (a column vector as it is a sum over $j$) so that we have\n",
        "\\begin{align*}\n",
        "\\begin{pmatrix}\n",
        "m^1 \\\\\n",
        "m^2 \\\\\n",
        "\\vdots \\\\\n",
        "m^N\n",
        "\\end{pmatrix}\n",
        "\\cdot\n",
        "\\begin{pmatrix}\n",
        "y - X^1   \\\\\n",
        "y - X^2  \\\\\n",
        "\\vdots \\\\\n",
        "y - X^N\n",
        "\\end{pmatrix}\n",
        "\\cdot\n",
        "\\begin{pmatrix}\n",
        "X^1 - y &  X^2 - y & \\cdots &  X^N - y \\\\\n",
        "X^1 - y &  X^2 - y & \\cdots &  X^N - y \\\\\n",
        "\\vdots  &                &         &   \\vdots \\\\\n",
        "X^1 - y &  X^2 - y & \\cdots &  X^N - y \\\\\n",
        "\\end{pmatrix}\n",
        "\\end{align*}"
      ],
      "metadata": {
        "id": "vobVOch-88Mk"
      }
    },
    {
      "cell_type": "markdown",
      "source": [
        "We sum along the first axis (axis = 0). This is the $j = 1, 2, \\ldots , N$ sum. This leaves us with a $(1,N)$ row vector (the same shape we started with). That is, particles $X^i$ for $i = 1, 2, \\ldots , N$.\n"
      ],
      "metadata": {
        "id": "dah3nKpC_pPn"
      }
    },
    {
      "cell_type": "code",
      "source": [],
      "metadata": {
        "id": "JamcVOAdOSpa"
      },
      "execution_count": null,
      "outputs": []
    },
    {
      "cell_type": "code",
      "source": [],
      "metadata": {
        "id": "n3-UJRsz__hy"
      },
      "execution_count": null,
      "outputs": []
    },
    {
      "cell_type": "code",
      "source": [],
      "metadata": {
        "id": "UNQlpL9jWXOU"
      },
      "execution_count": null,
      "outputs": []
    },
    {
      "cell_type": "markdown",
      "source": [
        "# End"
      ],
      "metadata": {
        "id": "8Dtb6FmXnDu_"
      }
    },
    {
      "cell_type": "code",
      "source": [],
      "metadata": {
        "id": "CFVD_YzGmJC4"
      },
      "execution_count": null,
      "outputs": []
    },
    {
      "cell_type": "code",
      "source": [],
      "metadata": {
        "id": "216TFh-BmJHK"
      },
      "execution_count": null,
      "outputs": []
    },
    {
      "cell_type": "code",
      "source": [],
      "metadata": {
        "id": "lQbwh-sumJLa"
      },
      "execution_count": null,
      "outputs": []
    }
  ]
}